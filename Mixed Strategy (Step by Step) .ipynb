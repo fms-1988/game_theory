{
 "cells": [
  {
   "cell_type": "markdown",
   "metadata": {},
   "source": [
    "1) Define a function that realizes the Cartesian product between vectors and create the exercise matrices (strategy matrix, probability matrix, and payoff matrix):"
   ]
  },
  {
   "cell_type": "code",
   "execution_count": 22,
   "metadata": {},
   "outputs": [
    {
     "data": {
      "text/plain": [
       "s_matrix (generic function with 1 method)"
      ]
     },
     "execution_count": 22,
     "metadata": {},
     "output_type": "execute_result"
    }
   ],
   "source": [
    "using SymPy\n",
    "\n",
    "# Cartesian product\n",
    "function s_matrix(x)\n",
    "    S = vec(collect(Base.product(reverse(x)...))) \n",
    "    S_M = []\n",
    "    for i = 1:length(S[1])\n",
    "        d = [y[i] for y in S]\n",
    "        if i == 1 S_M = [d; ] else S_M = [S_M d] end\n",
    "    end\n",
    "    S_M = reverse(S_M, dims = 2)\n",
    "    return S_M\n",
    "end"
   ]
  },
  {
   "cell_type": "markdown",
   "metadata": {},
   "source": [
    "2) Create the strategy matrix:"
   ]
  },
  {
   "cell_type": "code",
   "execution_count": 23,
   "metadata": {},
   "outputs": [
    {
     "data": {
      "text/latex": [
       "$\\left[ \\begin{array}{rr}a^{c}_{1}&a^{c}_{2}\\\\a^{c}_{1}&a^{nc}_{2}\\\\a^{nc}_{1}&a^{c}_{2}\\\\a^{nc}_{1}&a^{nc}_{2}\\end{array}\\right]$\n"
      ],
      "text/plain": [
       "4×2 Matrix{Sym}:\n",
       "  a_1__c   a_2__c\n",
       "  a_1__c  a_2__nc\n",
       " a_1__nc   a_2__c\n",
       " a_1__nc  a_2__nc"
      ]
     },
     "execution_count": 23,
     "metadata": {},
     "output_type": "execute_result"
    }
   ],
   "source": [
    "a1 = [Sym(\"a_$i^$j\") for i=1 for j=[\"c\",\"nc\"]]\n",
    "a2 = [Sym(\"a_$i^$j\") for i=2 for j=[\"c\",\"nc\"]]\n",
    "A = [a1 , a2]\n",
    "S = s_matrix(A) "
   ]
  },
  {
   "cell_type": "markdown",
   "metadata": {},
   "source": [
    "3) Create the probability matrix:"
   ]
  },
  {
   "cell_type": "code",
   "execution_count": 24,
   "metadata": {},
   "outputs": [
    {
     "data": {
      "text/latex": [
       "$\\left[ \\begin{array}{rr}\\alpha^{c}_{1}&\\alpha^{c}_{2}\\\\\\alpha^{c}_{1}&\\alpha^{nc}_{2}\\\\\\alpha^{nc}_{1}&\\alpha^{c}_{2}\\\\\\alpha^{nc}_{1}&\\alpha^{nc}_{2}\\end{array}\\right]$\n"
      ],
      "text/plain": [
       "4×2 Matrix{Sym}:\n",
       "  α_1__c   α_2__c\n",
       "  α_1__c  α_2__nc\n",
       " α_1__nc   α_2__c\n",
       " α_1__nc  α_2__nc"
      ]
     },
     "execution_count": 24,
     "metadata": {},
     "output_type": "execute_result"
    }
   ],
   "source": [
    "p1 = [Sym(\"alpha_$i^$j\") for i=1 for j=[\"c\",\"nc\"]]\n",
    "p2 = [Sym(\"alpha_$i^$j\") for i=2 for j=[\"c\",\"nc\"]]\n",
    "P = [p1 , p2]\n",
    "P = s_matrix(P)"
   ]
  },
  {
   "cell_type": "markdown",
   "metadata": {},
   "source": [
    "4) Create the payoff matrix:"
   ]
  },
  {
   "cell_type": "code",
   "execution_count": 25,
   "metadata": {},
   "outputs": [
    {
     "data": {
      "text/latex": [
       "$\\left[ \\begin{array}{rr}2 x&- x\\\\- x&2 x\\\\- x&2 x\\\\2 x&- x\\end{array}\\right]$\n"
      ],
      "text/plain": [
       "4×2 Matrix{Sym}:\n",
       " 2⋅x   -x\n",
       "  -x  2⋅x\n",
       "  -x  2⋅x\n",
       " 2⋅x   -x"
      ]
     },
     "execution_count": 25,
     "metadata": {},
     "output_type": "execute_result"
    }
   ],
   "source": [
    "x = symbols(\"x\", integer=true, positive = true, nonzero = true)\n",
    "U = [2*x -x; -x 2*x;-x 2*x;2*x -x] "
   ]
  },
  {
   "cell_type": "markdown",
   "metadata": {},
   "source": [
    "5) We will use the created matrices to build a system of equations. The solution of this system of equations will give us the solution of games with mixed strategies.  \n",
    "\n",
    "The first set of equations of our exercise comes from the fact that the sum of the probabilities associated with the actions of the same player must be equal to 1. In other words, if a player (i) can only perform the actions $a^{c}_{ i}$ or $a^{nc}_{i}$, and each of these actions has different rates of being performed by this player ($\\alpha^{c}_{i}$ or $\\alpha^{nc }_{i}$, respectively), so the chance of one or the other action occurring must be equal to 1. This logic would hold, regardless of the number of actions of player i.\n",
    "\n",
    "$$\\alpha^{c}_{i} + \\alpha^{nc}_{i} = 1$$\n",
    "\n"
   ]
  },
  {
   "cell_type": "code",
   "execution_count": 26,
   "metadata": {},
   "outputs": [
    {
     "data": {
      "text/latex": [
       "$\\left[ \\begin{array}{rr}\\alpha^{c}_{1} + \\alpha^{nc}_{1} = 1&\\alpha^{c}_{2} + \\alpha^{nc}_{2} = 1\\end{array}\\right]$\n"
      ],
      "text/plain": [
       "1×2 Matrix{Sym}:\n",
       " α_1__c + α_1__nc = 1  α_2__c + α_2__nc = 1"
      ]
     },
     "execution_count": 26,
     "metadata": {},
     "output_type": "execute_result"
    }
   ],
   "source": [
    "# The sum of the probabilities of a player must be equal to one.\n",
    "function sum_prob(x)\n",
    "    eqn = []\n",
    "    for i = 1:size(x, 2) \n",
    "        f = Eq(sum(unique(x[:,i])),1)\n",
    "        if i == 1 eqn = [f; ] else eqn = [eqn f] end\n",
    "    end\n",
    "    return eqn\n",
    "end\n",
    "eq1 = sum_prob(P)"
   ]
  },
  {
   "cell_type": "markdown",
   "metadata": {},
   "source": [
    "6) The following equations that will make up our system of equations depend on the expected utility of each player. So the next step is to calculate such utilities."
   ]
  },
  {
   "cell_type": "code",
   "execution_count": 27,
   "metadata": {},
   "outputs": [
    {
     "data": {
      "text/latex": [
       "$\\left[ \\begin{array}{rr}2 \\alpha^{c}_{1} \\alpha^{c}_{2} x - \\alpha^{c}_{1} \\alpha^{nc}_{2} x - \\alpha^{nc}_{1} \\alpha^{c}_{2} x + 2 \\alpha^{nc}_{1} \\alpha^{nc}_{2} x&- \\alpha^{c}_{1} \\alpha^{c}_{2} x + 2 \\alpha^{c}_{1} \\alpha^{nc}_{2} x + 2 \\alpha^{nc}_{1} \\alpha^{c}_{2} x - \\alpha^{nc}_{1} \\alpha^{nc}_{2} x\\end{array}\\right]$\n"
      ],
      "text/plain": [
       "1×2 Matrix{Sym}:\n",
       " 2⋅α_1__c⋅α_2__c⋅x - α_1__c⋅α_2__nc⋅x - α_1__nc⋅α_2__c⋅x + 2⋅α_1__nc⋅α_2__nc⋅x  …  -α_1__c⋅α_2__c⋅x + 2⋅α_1__c⋅α_2__nc⋅x + 2⋅α_1__nc⋅α_2__c⋅x - α_1__nc⋅α_2__nc⋅x"
      ]
     },
     "execution_count": 27,
     "metadata": {},
     "output_type": "execute_result"
    }
   ],
   "source": [
    "#Hadamard product(Find the product between elements of the same line).\n",
    "# Each line is a different conditional probability.\n",
    "function hadamard_product(x)\n",
    "    ncol = size(x, 2)\n",
    "    d = []\n",
    "    for i = 1:(ncol - 1)\n",
    "        if i == 1 d = (x[:,i] .* x[:,(i+1)]) else d = (x[:,i+1] .* d) end   \n",
    "    end    \n",
    "    return d\n",
    "end\n",
    "\n",
    "S_P = hadamard_product(P)\n",
    "#Find the expected payoff for each payer.\n",
    "eq2 = S_P.T * U"
   ]
  },
  {
   "cell_type": "markdown",
   "metadata": {},
   "source": [
    "7) Player (i) defines the ability to perform a specific action. Furthermore, that definition is based on maximizing its expected payoff. In other words, what is the probability $\\alpha_{i}^{c}$ that player (i) must attribute to the performance of the action $a_{i}^{c}$ that will bring him more payoff? The answer lies in the player's first-order conditions and their usefulness. The players' first-order conditions form the last set of equations we need to solve our game."
   ]
  },
  {
   "cell_type": "code",
   "execution_count": 28,
   "metadata": {},
   "outputs": [
    {
     "data": {
      "text/latex": [
       "$\\left[ \\begin{array}{r}3 \\alpha^{c}_{2} x - 3 \\alpha^{nc}_{2} x = 0\\\\- 3 \\alpha^{c}_{1} x + 3 \\alpha^{nc}_{1} x = 0\\end{array} \\right]$\n"
      ],
      "text/plain": [
       "2-element Vector{Sym}:\n",
       "  3⋅α_2__c⋅x - 3⋅α_2__nc⋅x = 0\n",
       " -3⋅α_1__c⋅x + 3⋅α_1__nc⋅x = 0"
      ]
     },
     "execution_count": 28,
     "metadata": {},
     "output_type": "execute_result"
    }
   ],
   "source": [
    "#Find first-order conditions for each player.\n",
    "function foc(eq1,eq2,P)\n",
    "    eq2_aux = []\n",
    "    eq3 = Vector{Sym}()\n",
    "    for pl in 1:size(P,2) # Players\n",
    "        var = unique(P[:,pl])\n",
    "        for i in 1:(size(var)[1]-1)\n",
    "            for j in var \n",
    "                if j != var[i] \n",
    "                    eq2_aux = eq2[pl].subs.(j,solve(eq1[pl],j))\n",
    "                    eq = Eq(diff.(eq2_aux[1],var[i]),0)\n",
    "                    append!(eq3, eq)\n",
    "                end\n",
    "            end\n",
    "        end\n",
    "    end\n",
    "    return eq3\n",
    "end\n",
    "\n",
    "\n",
    "eq3 = foc(eq1,eq2,P)"
   ]
  },
  {
   "cell_type": "markdown",
   "metadata": {},
   "source": [
    "8) finally we group our equations and solve our system of equations algebraically. "
   ]
  },
  {
   "cell_type": "code",
   "execution_count": 29,
   "metadata": {},
   "outputs": [
    {
     "data": {
      "text/latex": [
       "$\\left[ \\begin{array}{r}\\alpha^{c}_{1} + \\alpha^{nc}_{1} = 1\\\\\\alpha^{c}_{2} + \\alpha^{nc}_{2} = 1\\\\3 \\alpha^{c}_{2} x - 3 \\alpha^{nc}_{2} x = 0\\\\- 3 \\alpha^{c}_{1} x + 3 \\alpha^{nc}_{1} x = 0\\end{array} \\right]$\n"
      ],
      "text/plain": [
       "4-element Vector{Sym}:\n",
       "          α_1__c + α_1__nc = 1\n",
       "          α_2__c + α_2__nc = 1\n",
       "  3⋅α_2__c⋅x - 3⋅α_2__nc⋅x = 0\n",
       " -3⋅α_1__c⋅x + 3⋅α_1__nc⋅x = 0"
      ]
     },
     "execution_count": 29,
     "metadata": {},
     "output_type": "execute_result"
    }
   ],
   "source": [
    "#equations of the sistem\n",
    "eq4 = append!(vec(eq1), eq3)"
   ]
  },
  {
   "cell_type": "code",
   "execution_count": 30,
   "metadata": {},
   "outputs": [
    {
     "data": {
      "text/latex": [
       "$\\left[ \\begin{array}{r}\\alpha^{nc}_{2} = \\frac{1}{2}\\\\\\alpha^{c}_{1} = \\frac{1}{2}\\\\\\alpha^{nc}_{1} = \\frac{1}{2}\\\\\\alpha^{c}_{2} = \\frac{1}{2}\\end{array} \\right]$\n"
      ],
      "text/plain": [
       "4-element Vector{Sym}:\n",
       " α_2__nc = 1/2\n",
       "  α_1__c = 1/2\n",
       " α_1__nc = 1/2\n",
       "  α_2__c = 1/2"
      ]
     },
     "execution_count": 30,
     "metadata": {},
     "output_type": "execute_result"
    }
   ],
   "source": [
    "vars = unique(P) # system variables \n",
    "sol = solve(eq4,vars)\n",
    "sol = [Eq(var[1],var[2]) for var in sol] "
   ]
  }
 ],
 "metadata": {
  "kernelspec": {
   "display_name": "Julia 1.6.4",
   "language": "julia",
   "name": "julia-1.6"
  },
  "language_info": {
   "file_extension": ".jl",
   "mimetype": "application/julia",
   "name": "julia",
   "version": "1.6.4"
  }
 },
 "nbformat": 4,
 "nbformat_minor": 4
}
