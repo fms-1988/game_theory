{
 "cells": [
  {
   "cell_type": "markdown",
   "metadata": {},
   "source": [
    "## Algorithm\n",
    "The algorithm for solving non-sequential games with pure strategy is simple. It consists of only two functions: \"s_matrix\" and \"best_responses\". "
   ]
  },
  {
   "cell_type": "code",
   "execution_count": 7,
   "metadata": {},
   "outputs": [
    {
     "data": {
      "text/plain": [
       "best_responses (generic function with 1 method)"
      ]
     },
     "execution_count": 7,
     "metadata": {},
     "output_type": "execute_result"
    }
   ],
   "source": [
    "using SymPy #package to use symbolic variables\n",
    "\n",
    "function s_matrix(x) #function to create the strategy matrix\n",
    "    S = vec(collect(Base.product(reverse(x)...))) #Cartesian Product\n",
    "    #transform a set of strategies into a matrix\n",
    "    S_M = []\n",
    "    for i = 1:length(S[1])\n",
    "        d = [y[i] for y in S]\n",
    "        if i == 1 S_M = [d; ] else S_M = [S_M d] end\n",
    "    end\n",
    "    S_M = reverse(S_M, dims = 2)\n",
    "    return S_M\n",
    "end\n",
    "\n",
    "function best_responses(x,y) #S e U\n",
    "ncol = size(x, 2) #number of players\n",
    "BR = copy(x) #matrix containing the best responses \n",
    "for i = 1:ncol #for each payer i\n",
    "    S_not_i = sum(x[:, 1:end .!= i], dims=2) # possible strategies of opponents of player i \n",
    "    for j in unique(S_not_i) \n",
    "        k = findall(S_not_i .== j) #subset of strategies containing strategy j\n",
    "        l = first.(Tuple.(k)) # lines referring to strategy j \n",
    "        h = findall(y[l,i] .== max(maximum(y[l,i]))) #player (i) strategies that maximize their payoff versus strategy J \n",
    "        #create matrix of best responses\n",
    "            for ll in l[h] BR[ll,i] = Sym(string(BR[ll,i],\"^*\")) end #mark best responses with (*) \n",
    "    end\n",
    "end\n",
    "return BR\n",
    "end"
   ]
  },
  {
   "cell_type": "markdown",
   "metadata": {},
   "source": [
    "## Example: Prisoner's dilemma\n",
    "\n",
    "Mas-Colell (pg: 236)"
   ]
  },
  {
   "cell_type": "code",
   "execution_count": 8,
   "metadata": {},
   "outputs": [
    {
     "data": {
      "text/latex": [
       "$\\left[ \\begin{array}{rr}a^{nc}_{1}&a^{nc}_{2}\\\\a^{nc}_{1}&a^{c *}_{2}\\\\a^{c *}_{1}&a^{nc}_{2}\\\\a^{c *}_{1}&a^{c *}_{2}\\end{array}\\right]$\n"
      ],
      "text/plain": [
       "4×2 Matrix{Sym}:\n",
       "  a_1__nc   a_2__nc\n",
       "  a_1__nc  a_2__c__*\n",
       " a_1__c__*   a_2__nc\n",
       " a_1__c__*  a_2__c__*"
      ]
     },
     "execution_count": 8,
     "metadata": {},
     "output_type": "execute_result"
    }
   ],
   "source": [
    "#strategy matrix\n",
    "a1 = [Sym(\"a_$i^$j\") for i=1 for j=[\"nc\",\"c\"]] #possible actions of payer 1\n",
    "a2 = [Sym(\"a_$i^$j\") for i=2 for j=[\"nc\",\"c\"]] #possible actions of payer 2\n",
    "A = [a1 , a2] # set of all possible actions\n",
    "S = s_matrix(A) \n",
    "\n",
    "#Payoff matrix\n",
    "U = [-2 -2; -10 -1;-1 -10;-5 -5]\n",
    "\n",
    "#Best responses matrix\n",
    "BR = best_responses(S,U)"
   ]
  },
  {
   "cell_type": "markdown",
   "metadata": {},
   "source": [
    "## Example: Strictly dominated Strategy\n",
    "Mas-Colell (pq: 238)"
   ]
  },
  {
   "cell_type": "code",
   "execution_count": 14,
   "metadata": {},
   "outputs": [
    {
     "data": {
      "text/latex": [
       "$\\left[ \\begin{array}{rr}a^{U *}_{1}&a^{L}_{2}\\\\a^{U}_{1}&a^{R *}_{2}\\\\a^{M}_{1}&a^{L *}_{2}\\\\a^{M *}_{1}&a^{R}_{2}\\\\a^{D}_{1}&a^{L *}_{2}\\\\a^{D}_{1}&a^{R}_{2}\\end{array}\\right]$\n"
      ],
      "text/plain": [
       "6×2 Matrix{Sym}:\n",
       " a_1__U__*    a_2__L\n",
       "   a_1__U  a_2__R__*\n",
       "   a_1__M  a_2__L__*\n",
       " a_1__M__*    a_2__R\n",
       "   a_1__D  a_2__L__*\n",
       "   a_1__D    a_2__R"
      ]
     },
     "execution_count": 14,
     "metadata": {},
     "output_type": "execute_result"
    }
   ],
   "source": [
    "#strategy matrix\n",
    "a1 = [Sym(\"a_$i^$j\") for i=1 for j=[\"U\",\"M\",\"D\"]] \n",
    "a2 = [Sym(\"a_$i^$j\") for i=2 for j=[\"L\",\"R\"]] \n",
    "A = [a1 , a2] \n",
    "S = s_matrix(A) \n",
    "\n",
    "#Payoff matrix\n",
    "U = [1 -1;-1 1;-1 1;1 -1;-2 5;-3 2]\n",
    "\n",
    "#Best responses matrix\n",
    "BR = best_responses(S,U)"
   ]
  },
  {
   "cell_type": "markdown",
   "metadata": {},
   "source": [
    "The player (1) will never take action (D)."
   ]
  },
  {
   "cell_type": "markdown",
   "metadata": {},
   "source": [
    "## Example: Three Players\n",
    "Osborne and Rubinstein (1994, pg: 48)"
   ]
  },
  {
   "cell_type": "code",
   "execution_count": 17,
   "metadata": {},
   "outputs": [
    {
     "data": {
      "text/latex": [
       "$\\left[ \\begin{array}{rrr}a^{T}_{1}&a^{L *}_{2}&a^{A *}_{3}\\\\a^{T *}_{1}&a^{L *}_{2}&a^{B}_{3}\\\\a^{T *}_{1}&a^{L *}_{2}&a^{C}_{3}\\\\a^{T *}_{1}&a^{R *}_{2}&a^{A *}_{3}\\\\a^{T}_{1}&a^{R}_{2}&a^{B *}_{3}\\\\a^{T *}_{1}&a^{R *}_{2}&a^{C *}_{3}\\\\a^{B *}_{1}&a^{L *}_{2}&a^{A *}_{3}\\\\a^{B}_{1}&a^{L}_{2}&a^{B *}_{3}\\\\a^{B *}_{1}&a^{L *}_{2}&a^{C *}_{3}\\\\a^{B *}_{1}&a^{R *}_{2}&a^{A}_{3}\\\\a^{B *}_{1}&a^{R *}_{2}&a^{B}_{3}\\\\a^{B *}_{1}&a^{R}_{2}&a^{C *}_{3}\\end{array}\\right]$\n"
      ],
      "text/plain": [
       "12×3 Matrix{Sym}:\n",
       "   a_1__T  a_2__L__*  a_3__A__*\n",
       " a_1__T__*  a_2__L__*    a_3__B\n",
       " a_1__T__*  a_2__L__*    a_3__C\n",
       " a_1__T__*  a_2__R__*  a_3__A__*\n",
       "   a_1__T    a_2__R  a_3__B__*\n",
       " a_1__T__*  a_2__R__*  a_3__C__*\n",
       " a_1__B__*  a_2__L__*  a_3__A__*\n",
       "   a_1__B    a_2__L  a_3__B__*\n",
       " a_1__B__*  a_2__L__*  a_3__C__*\n",
       " a_1__B__*  a_2__R__*    a_3__A\n",
       " a_1__B__*  a_2__R__*    a_3__B\n",
       " a_1__B__*    a_2__R  a_3__C__*"
      ]
     },
     "execution_count": 17,
     "metadata": {},
     "output_type": "execute_result"
    }
   ],
   "source": [
    "#strategy matrix\n",
    "a1 = [Sym(\"a_$i^$j\") for i=1 for j=[\"T\",\"B\"]] \n",
    "a2 = [Sym(\"a_$i^$j\") for i=2 for j=[\"L\",\"R\"]] \n",
    "a3 = [Sym(\"a_$i^$j\") for i=3 for j=[\"A\",\"B\",\"C\"]] \n",
    "A = [a1 , a2, a3] \n",
    "S = s_matrix(A) \n",
    "\n",
    "#Payoff matrix\n",
    "U = [0 0 3; 2 2 2; 0 0 0; 0 0 0; 0 0 0; 0 0 0; 1 0 0; 0 0 0; 0 1 0; 0 0 0; 2 2 2; 0 0 3]\n",
    "\n",
    "#Best responses matrix\n",
    "BR = best_responses(S,U)"
   ]
  },
  {
   "cell_type": "markdown",
   "metadata": {},
   "source": [
    "The pure strategy equilibrium strategies are $\\left(a_{1}^{T^{*}} , a_{2}^{R^{*}} , a_{3}^{A^{*}}\\right)$, $\\left(a_{1}^{T^{*}} , a_{2}^{R^{*}} , a_{3}^{C^{*}}\\right)$, $\\left(a_{1}^{B^{*}} , a_{2}^{L^{*}} , a_{3}^{A^{*}}\\right)$, and $\\left(a_{1}^{B^{*}} , a_{2}^{L^{*}} , a_{3}^{C^{*}}\\right)$. And, the pure strategy equilibrium payoffs are (0,0,0), (1,0,0), and (0,1,0)."
   ]
  },
  {
   "cell_type": "markdown",
   "metadata": {},
   "source": [
    "## Example: Penalty kicks in soccer (three actions)\n",
    "\n",
    "https://felixmunozgarcia.files.wordpress.com/2017/08/slides_71.pdf"
   ]
  },
  {
   "cell_type": "code",
   "execution_count": 25,
   "metadata": {},
   "outputs": [
    {
     "data": {
      "text/latex": [
       "$\\left[ \\begin{array}{rrr}a^{f}_{B}&a^{f}_{T}&a^{f *}_{J}\\\\a^{f *}_{B}&a^{f *}_{T}&a^{b}_{J}\\\\a^{f}_{B}&a^{b *}_{T}&a^{f *}_{J}\\\\a^{f *}_{B}&a^{b}_{T}&a^{b *}_{J}\\\\a^{b *}_{B}&a^{f}_{T}&a^{f *}_{J}\\\\a^{b}_{B}&a^{f *}_{T}&a^{b *}_{J}\\\\a^{b *}_{B}&a^{b *}_{T}&a^{f}_{J}\\\\a^{b}_{B}&a^{b}_{T}&a^{b *}_{J}\\end{array}\\right]$\n"
      ],
      "text/plain": [
       "8×3 Matrix{Sym}:\n",
       "   a_B__f    a_T__f  a_J__f__*\n",
       " a_B__f__*  a_T__f__*    a_J__b\n",
       "   a_B__f  a_T__b__*  a_J__f__*\n",
       " a_B__f__*    a_T__b  a_J__b__*\n",
       " a_B__b__*    a_T__f  a_J__f__*\n",
       "   a_B__b  a_T__f__*  a_J__b__*\n",
       " a_B__b__*  a_T__b__*    a_J__f\n",
       "   a_B__b    a_T__b  a_J__b__*"
      ]
     },
     "execution_count": 25,
     "metadata": {},
     "output_type": "execute_result"
    }
   ],
   "source": [
    "#strategy matrix\n",
    "Beth = [Sym(\"a_$i^$j\") for i=\"B\" for j=[\"f\",\"b\"]]\n",
    "Tommy = [Sym(\"a_$i^$j\") for i=\"T\" for j=[\"f\",\"b\"]]\n",
    "Jason = [Sym(\"a_$i^$j\") for i=\"J\" for j=[\"f\",\"b\"]]\n",
    "A = [Beth , Tommy, Jason]\n",
    "S = s_matrix(A) \n",
    "\n",
    "#Payoff matrix\n",
    "U = [0 0 0; 3 3 -2;-4 1 2;1 -4 2;1 -4 2;-4 1 2; 2 2 -2; 0 0 0]\n",
    "\n",
    "#Best responses matrix\n",
    "BR = best_responses(S,U)"
   ]
  }
 ],
 "metadata": {
  "kernelspec": {
   "display_name": "Julia 1.6.4",
   "language": "julia",
   "name": "julia-1.6"
  },
  "language_info": {
   "file_extension": ".jl",
   "mimetype": "application/julia",
   "name": "julia",
   "version": "1.6.4"
  }
 },
 "nbformat": 4,
 "nbformat_minor": 4
}
