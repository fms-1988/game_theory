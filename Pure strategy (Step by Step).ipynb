{
 "cells": [
  {
   "cell_type": "markdown",
   "metadata": {},
   "source": [
    "## Pure strategy (step by step)\n",
    "\n",
    "\n",
    "1) the objective is to solve games of pure strategies using matrices and programming codes. \n",
    "<br><br>\n",
    "2) The game will not be represented in the normal way, but through two matrices, one representing the players' strategies ($\\underset{\\sim}{S}$) and the other representing the players' payoff ($\\underset{\\sim}{U}$).  \n",
    "<br><br>\n",
    "\n",
    "\n",
    "\\begin{equation}\n",
    "\\underset{\\sim}{S} = \n",
    "\\left[\n",
    "\\begin{array}{cc}\n",
    "a_1^c & a_2^c \\\\\n",
    "a_1^c & a_2^{nc} \\\\\n",
    "a_1^{nc} & a_2^c \\\\\n",
    "a_1^{nc} & a_2^{nc} \\\\\n",
    "\\end{array}\n",
    "\\right]; \n",
    "\\space\n",
    "\\underset{\\sim}{U} = \n",
    "\\left[\n",
    "\\begin{array}{rr}\n",
    "u_1^c & u_2^c \\\\\n",
    "u_1^c & u_2^{nc} \\\\\n",
    "u_1^{nc} & u_2^c \\\\\n",
    "u_1^{nc} & u_2^{nc} \\\\\n",
    "\\end{array}\n",
    "\\right];\n",
    "\\space\n",
    "\\textbf{(matrix form)}\n",
    "\\end{equation}\n",
    "\n",
    "<br><br>\n",
    "\n",
    "3) The matrix $\\underset{\\sim}{S}$ represents the set of all strategies that can occur. Each element of the matrix is an action of player 1 ($a_1$) or player 2 ($a_2$). The superscript represents the action taken by the player (c or nc). Each column of matrix $\\underset{\\sim}{S}$ refers to a single player and each row is a different strategy. \n",
    "<br><br>\n",
    "4) The payoff matrix ($\\underset{\\sim}{U}$) follows the same rules as the matrix $\\underset{\\sim}{S}$. Each 'i' column represents the set of possible payoffs for player 'i'. Each row represents the set of payoffs for the 'n' players who have chosen a specific strategy. Below is an example of a utility matrix: \n",
    "\n",
    "<br><br>\n",
    "\\begin{equation}\n",
    "\\underset{\\sim}{U} = \n",
    "\\left[\n",
    "\\begin{array}{rr}\n",
    "u_1^c & u_2^c \\\\\n",
    "u_1^c & u_2^{nc} \\\\\n",
    "u_1^{nc} & u_2^c \\\\\n",
    "u_1^{nc} & u_2^{nc} \\\\\n",
    "\\end{array}\n",
    "\\right]=\n",
    "\\space\n",
    "\\left[\n",
    "\\begin{array}{rr}\n",
    "-5 & -5 \\\\\n",
    "-1 & -10 \\\\\n",
    "-10 & -2 \\\\\n",
    "-2 & -2 \\\\\n",
    "\\end{array}\n",
    "\\right]\n",
    "\\end{equation}\n",
    "\n",
    "<br><br>\n",
    "5) Based on matrices $\\underset{\\sim}{S}$ and $\\underset{\\sim}{U}$, the algorithm  $\\textbf{f}$ finds the best responses to each player and identifies them with a sign (*). The result of the algorithm $\\textbf{f}$ is the matrix of best responses ($\\underset{\\sim}{BR}$).\n",
    "\n",
    "\n",
    "\\begin{equation}\n",
    "\\space\n",
    "\\textbf{f}(\\underset{\\sim}{S},\\underset{\\sim}{U}) = \\underset{\\sim}{BR} = \n",
    "\\left[\n",
    "\\begin{array}{cc}\n",
    "a_1^{c*} & a_2^{c*} \\\\\n",
    "a_1^{c*} & a_2^{nc} \\\\\n",
    "a_1^{nc} & a_2^{c*} \\\\\n",
    "a_1^{nc} & a_2^{nc} \\\\\n",
    "\\end{array}\n",
    "\\right]\n",
    "\\end{equation}\n",
    "<br><br>\n",
    "6) The game's Solution is the row of the $\\underset{\\sim}{BR}$ matrix which contains only actions marked as best responses. \n",
    "<br><br>\n",
    "\n",
    "\\begin{equation}\n",
    "\\notag\n",
    "\\underset{\\sim}{BR} =\n",
    "\\left[\n",
    "\\begin{array}{cc}\n",
    "a_1^{c*} & a_2^{c*} \\\\\n",
    "a_1^{c*} & a_2^{nc} \\\\\n",
    "a_1^{nc} & a_2^{c*} \\\\\n",
    "a_1^{nc} & a_2^{nc} \\\\\n",
    "\\end{array}\n",
    "\\right]\n",
    "\\begin{array}{l}\n",
    "\\xleftarrow{} Nash~Equilibriun\\\\\n",
    "\\\\\n",
    "\\\\\n",
    "\\\\\n",
    "\\end{array}\n",
    "\\end{equation}\n"
   ]
  },
  {
   "cell_type": "code",
   "execution_count": 1,
   "metadata": {},
   "outputs": [],
   "source": [
    "using SymPy #package to use symbolic variables "
   ]
  },
  {
   "cell_type": "code",
   "execution_count": 2,
   "metadata": {},
   "outputs": [
    {
     "data": {
      "text/latex": [
       "$\\left[ \\begin{array}{rr}a^{c}_{1}&a^{c}_{2}\\\\a^{c}_{1}&a^{nc}_{2}\\\\a^{nc}_{1}&a^{c}_{2}\\\\a^{nc}_{1}&a^{nc}_{2}\\end{array}\\right]$\n"
      ],
      "text/plain": [
       "4×2 Matrix{Sym}:\n",
       "  a_1__c   a_2__c\n",
       "  a_1__c  a_2__nc\n",
       " a_1__nc   a_2__c\n",
       " a_1__nc  a_2__nc"
      ]
     },
     "execution_count": 2,
     "metadata": {},
     "output_type": "execute_result"
    }
   ],
   "source": [
    "a1 = [Sym(\"a_$i^$j\") for i=1 for j=[\"c\",\"nc\"]] #possible actions of player 1 \n",
    "a2 = [Sym(\"a_$i^$j\") for i=2 for j=[\"c\",\"nc\"]] #possible actions of player 2\n",
    "A = [a1 , a2] # set of all possible actions \n",
    "\n",
    "function s_matrix(x) #function to generate strategy matrix \n",
    "    S = vec(collect(Base.product(reverse(x)...))) #Cartesian product \n",
    "    #transform a set of strategies into a matrix \n",
    "    S_M = []\n",
    "    for i = 1:length(S[1])\n",
    "        d = [y[i] for y in S]\n",
    "        if i == 1 S_M = [d; ] else S_M = [S_M d] end\n",
    "    end\n",
    "    S_M = reverse(S_M, dims = 2)\n",
    "    return S_M\n",
    "end\n",
    "S = s_matrix(A) #strategy matrix"
   ]
  },
  {
   "cell_type": "code",
   "execution_count": 3,
   "metadata": {},
   "outputs": [
    {
     "data": {
      "text/plain": [
       "4×2 Matrix{Int64}:\n",
       "  -5   -5\n",
       "  -1  -10\n",
       " -10   -1\n",
       "  -2   -2"
      ]
     },
     "execution_count": 3,
     "metadata": {},
     "output_type": "execute_result"
    }
   ],
   "source": [
    "#payoff matrix\n",
    "U = [-5 -5; -1 -10;-10 -1;-2 -2]"
   ]
  },
  {
   "cell_type": "code",
   "execution_count": 4,
   "metadata": {},
   "outputs": [
    {
     "data": {
      "text/latex": [
       "$\\left[ \\begin{array}{rr}a^{c *}_{1}&a^{c *}_{2}\\\\a^{c *}_{1}&a^{nc}_{2}\\\\a^{nc}_{1}&a^{c *}_{2}\\\\a^{nc}_{1}&a^{nc}_{2}\\end{array}\\right]$\n"
      ],
      "text/plain": [
       "4×2 Matrix{Sym}:\n",
       " a_1__c__*  a_2__c__*\n",
       " a_1__c__*   a_2__nc\n",
       "  a_1__nc  a_2__c__*\n",
       "  a_1__nc   a_2__nc"
      ]
     },
     "execution_count": 4,
     "metadata": {},
     "output_type": "execute_result"
    }
   ],
   "source": [
    "function best_responses(x,y) #S and U\n",
    "ncol = size(x, 2) #number of players\n",
    "BR = copy(x) #matrix containing the best responses \n",
    "for i = 1:ncol #for each player i \n",
    "    S_not_i = sum(x[:, 1:end .!= i], dims=2) # possible strategies of i opponents\n",
    "    for j in unique(S_not_i) \n",
    "        k = findall(S_not_i .== j) #set of strategies containing strategy j \n",
    "        l = first.(Tuple.(k)) # lines referring to strategy j \n",
    "        h = findall(y[l,i] .== max(maximum(y[l,i]))) #player i strategies that maximize their payoff when faced with strategy J \n",
    "        #create BR matrix \n",
    "        for ll in l[h] BR[ll,i] = Sym(string(BR[ll,i],\"^*\")) end #mark best answers with * \n",
    "    end\n",
    "end\n",
    "return BR\n",
    "end\n",
    "BR = best_responses(S,U)"
   ]
  },
  {
   "cell_type": "markdown",
   "metadata": {},
   "source": [
    "\\begin{equation}\n",
    "\\underset{\\sim}{S} = \n",
    "\\left[\n",
    "\\begin{array}{cc}\n",
    "a_1^c & a_2^c \\\\\n",
    "a_1^c & a_2^{nc} \\\\\n",
    "a_1^{nc} & a_2^c \\\\\n",
    "a_1^{nc} & a_2^{nc} \\\\\n",
    "\\end{array}\n",
    "\\right]; \n",
    "\\space\n",
    "\\underset{\\sim}{U} = \n",
    "\\left[\n",
    "\\begin{array}{rr}\n",
    "-5 & -5 \\\\\n",
    "-1 & -10 \\\\\n",
    "-10 & -2 \\\\\n",
    "-2 & -2 \\\\\n",
    "\\end{array}\n",
    "\\right];\n",
    "\\space\n",
    "f(\\underset{\\sim}{S},\\underset{\\sim}{U}) = \\underset{\\sim}{BR} = \n",
    "\\left[\n",
    "\\begin{array}{cc}\n",
    "a_1^{c*} & a_2^{c*} \\\\\n",
    "a_1^{c*} & a_2^{nc} \\\\\n",
    "a_1^{nc} & a_2^{c*} \\\\\n",
    "a_1^{nc} & a_2^{nc} \\\\\n",
    "\\end{array}\n",
    "\\right]\n",
    "\\end{equation}"
   ]
  }
 ],
 "metadata": {
  "kernelspec": {
   "display_name": "Julia 1.6.4",
   "language": "julia",
   "name": "julia-1.6"
  },
  "language_info": {
   "file_extension": ".jl",
   "mimetype": "application/julia",
   "name": "julia",
   "version": "1.6.4"
  }
 },
 "nbformat": 4,
 "nbformat_minor": 4
}
