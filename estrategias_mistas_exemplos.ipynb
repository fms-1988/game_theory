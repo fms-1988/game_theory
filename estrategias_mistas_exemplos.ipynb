{
 "cells": [
  {
   "cell_type": "markdown",
   "metadata": {},
   "source": [
    "## Estratégia Mista (exemplos)"
   ]
  },
  {
   "cell_type": "code",
   "execution_count": 1,
   "metadata": {},
   "outputs": [
    {
     "data": {
      "text/plain": [
       "cpo (generic function with 1 method)"
      ]
     },
     "execution_count": 1,
     "metadata": {},
     "output_type": "execute_result"
    }
   ],
   "source": [
    "using SymPy\n",
    "\n",
    "# equações\n",
    "function matriz_S(x) #função para gerar matriz de estratégias\n",
    "    S = vec(collect(Base.product(reverse(x)...))) #produto cartesiano\n",
    "    #transformar conjunto de estratégias em matriz\n",
    "    S_M = []\n",
    "    for i = 1:length(S[1])\n",
    "        d = [y[i] for y in S]\n",
    "        if i == 1 S_M = [d; ] else S_M = [S_M d] end\n",
    "    end\n",
    "    S_M = reverse(S_M, dims = 2)\n",
    "    return S_M\n",
    "end\n",
    "\n",
    "\n",
    "function melhores_respostas(x,y) #S e U\n",
    "ncol = size(x, 2) #numero de jogadores\n",
    "BR = copy(x) #matriz contendo as melhores respostas\n",
    "for i = 1:ncol #para cada agente i\n",
    "    S_not_i = sum(x[:, 1:end .!= i], dims=2) # possiveis estratégias dos oponentes de i\n",
    "    for j in unique(S_not_i) \n",
    "        k = findall(S_not_i .== j) #conjunto de estratégias contendo a estratégia j\n",
    "        l = first.(Tuple.(k)) # linhas referentes à estratégia j\n",
    "        h = findall(y[l,i] .== max(maximum(y[l,i]))) #estratégias do indivíduo i que maximisam sua utilidade frente à estrategia J\n",
    "        #criar matriz BR\n",
    "        for ll in l[h] BR[ll,i] = Sym(string(BR[ll,i],\"^*\")) end #assinalar melhores respostas com *\n",
    "    end\n",
    "end\n",
    "return BR\n",
    "end\n",
    "\n",
    "\n",
    "# a soma das probabilidades para cada jogador deve ser iguala um\n",
    "function sum_prob(x)\n",
    "    eqn = []\n",
    "    for i = 1:size(x, 2) \n",
    "        f = Eq(sum(unique(x[:,i])),1)\n",
    "        if i == 1 eqn = [f; ] else eqn = [eqn f] end\n",
    "    end\n",
    "    return eqn\n",
    "end\n",
    "\n",
    "\n",
    "function hadamard_product(x)\n",
    "    ncol = size(x, 2)\n",
    "    d = []\n",
    "    for i = 1:(ncol - 1)\n",
    "        if i == 1 d = (x[:,i] .* x[:,(i+1)]) else d = (x[:,i+1] .* d) end   \n",
    "    end    \n",
    "    return d\n",
    "end\n",
    "\n",
    "\n",
    "\n",
    "function cpo(eqn1,eqn2,P)\n",
    "    ee = []\n",
    "    eqn3 = copy(eqn2)\n",
    "    for pl in 1:size(P,2) # pl = jogador\n",
    "        var = unique(P[:,pl])\n",
    "        for i in 1:(size(var)[1]-1)\n",
    "            for j in var \n",
    "                if j != i \n",
    "                    ee = eqn2[pl].subs.(j,solve(eqn1[pl],j)) \n",
    "                end\n",
    "            end\n",
    "            eq = Eq(diff.(ee[1],var[i]),0)\n",
    "            eqn3[i,pl] = eq\n",
    "        end\n",
    "    end\n",
    "    return eqn3\n",
    "end\n",
    "\n"
   ]
  },
  {
   "cell_type": "markdown",
   "metadata": {},
   "source": [
    "##### Ex: Batalha dos sexos\n",
    "https://saylordotorg.github.io/text_introduction-to-economic-analysis/s17-03-mixed-strategies.html\n",
    "\n",
    "correto"
   ]
  },
  {
   "cell_type": "code",
   "execution_count": 3,
   "metadata": {},
   "outputs": [
    {
     "data": {
      "text/plain": [
       "4×2 Array{Int64,2}:\n",
       " 3  2\n",
       " 1  1\n",
       " 0  0\n",
       " 2  3"
      ]
     },
     "execution_count": 3,
     "metadata": {},
     "output_type": "execute_result"
    }
   ],
   "source": [
    "a1 = [Sym(\"a_$i^$j\") for i=1 for j=[\"1\",\"2\"]]\n",
    "a2 = [Sym(\"a_$i^$j\") for i=2 for j=[\"1\",\"2\"]]\n",
    "A = [a1 , a2]\n",
    "S = matriz_S(A) \n",
    "\n",
    "#matriz de Probabilidades\n",
    "p1 = [symbols(\"alpha_$i^$j\", real = true, positive = true) for i=1 for j=[\"1\",\"2\"]]\n",
    "p2 = [symbols(\"alpha_$i^$j\", real = true, positive = true) for i=2 for j=[\"1\",\"2\"]]\n",
    "P = [p1 , p2]\n",
    "P = matriz_S(P) \n",
    "\n",
    "#matriz utilidade\n",
    "U = [3 2;1 1;0 0;2 3]"
   ]
  },
  {
   "cell_type": "code",
   "execution_count": 14,
   "metadata": {},
   "outputs": [
    {
     "data": {
      "text/plain": [
       "Dict{Any,Any} with 4 entries:\n",
       "  alpha_2^2 => 3/4\n",
       "  alpha_1^2 => 1/4\n",
       "  alpha_2^1 => 1/4\n",
       "  alpha_1^1 => 3/4"
      ]
     },
     "execution_count": 14,
     "metadata": {},
     "output_type": "execute_result"
    }
   ],
   "source": [
    "eqn1 = sum_prob(P)\n",
    "S_P = hadamard_product(P)\n",
    "eqn2 = S_P.T * U\n",
    "eqn3 = cpo(eqn1,eqn2,P)\n",
    "eqns = vec([eqn3 eqn1])\n",
    "vars = unique(P)\n",
    "solucao = solve(eqns,vars)"
   ]
  },
  {
   "cell_type": "markdown",
   "metadata": {},
   "source": [
    "#### Matching pennies\n",
    "\n",
    "https://saylordotorg.github.io/text_introduction-to-economic-analysis/s17-03-mixed-strategies.html\n",
    "\n",
    "correto"
   ]
  },
  {
   "cell_type": "code",
   "execution_count": 7,
   "metadata": {},
   "outputs": [
    {
     "data": {
      "text/plain": [
       "Dict{Any,Any} with 4 entries:\n",
       "  alpha_2^2 => 1/2\n",
       "  alpha_1^2 => 1/2\n",
       "  alpha_2^1 => 1/2\n",
       "  alpha_1^1 => 1/2"
      ]
     },
     "execution_count": 7,
     "metadata": {},
     "output_type": "execute_result"
    }
   ],
   "source": [
    "U = [1 -1;-1 1;-1 1;1 -1]\n",
    "\n",
    "eqn1 = sum_prob(P)\n",
    "S_P = hadamard_product(P)\n",
    "eqn2 = S_P.T * U\n",
    "eqn3 = cpo(eqn1,eqn2,P)\n",
    "eqns = vec([eqn3 eqn1])\n",
    "vars = unique(P)\n",
    "solucao = solve(eqns,vars)"
   ]
  },
  {
   "cell_type": "markdown",
   "metadata": {},
   "source": [
    "#### Chicken\n",
    "\n",
    "https://saylordotorg.github.io/text_introduction-to-economic-analysis/s17-03-mixed-strategies.html\n",
    "\n",
    "correto"
   ]
  },
  {
   "cell_type": "code",
   "execution_count": 63,
   "metadata": {},
   "outputs": [
    {
     "data": {
      "text/latex": [
       "$\\left[ \\begin{array}{r}\\alpha^{1}_{1} = \\frac{3}{4}\\\\\\alpha^{2}_{1} = \\frac{1}{4}\\\\\\alpha^{1}_{2} = \\frac{3}{4}\\\\\\alpha^{2}_{2} = \\frac{1}{4}\\end{array} \\right]$\n"
      ],
      "text/plain": [
       "4-element Array{Sym,1}:\n",
       " α¹₁ = 3/4\n",
       " α²₁ = 1/4\n",
       " α¹₂ = 3/4\n",
       " α²₂ = 1/4"
      ]
     },
     "execution_count": 63,
     "metadata": {},
     "output_type": "execute_result"
    }
   ],
   "source": [
    "U = [0 0;-1 1;1 -1;-4 -4]\n",
    "\n",
    "eqn1 = sum_prob(P)\n",
    "S_P = hadamard_product(P)\n",
    "eqn2 = S_P.T * U\n",
    "eqn3 = cpo(eqn1,eqn2,P)\n",
    "eqns = vec([eqn3 eqn1])\n",
    "vars = unique(P)\n",
    "sol = solve(eqns,vars)\n",
    "sol = [Eq(var[1],var[2]) for var in sol] "
   ]
  },
  {
   "cell_type": "markdown",
   "metadata": {},
   "source": [
    "#### Welfare Game\n",
    "Rasmusen (pp. 67)\n",
    "\n",
    "Correto"
   ]
  },
  {
   "cell_type": "code",
   "execution_count": 62,
   "metadata": {},
   "outputs": [
    {
     "data": {
      "text/latex": [
       "$\\left[ \\begin{array}{r}\\alpha^{1}_{1} = \\frac{1}{2}\\\\\\alpha^{2}_{1} = \\frac{1}{2}\\\\\\alpha^{1}_{2} = \\frac{1}{5}\\\\\\alpha^{2}_{2} = \\frac{4}{5}\\end{array} \\right]$\n"
      ],
      "text/plain": [
       "4-element Array{Sym,1}:\n",
       " α¹₁ = 1/2\n",
       " α²₁ = 1/2\n",
       " α¹₂ = 1/5\n",
       " α²₂ = 4/5"
      ]
     },
     "execution_count": 62,
     "metadata": {},
     "output_type": "execute_result"
    }
   ],
   "source": [
    "U = [3 2;-1 3;-1 1;0 0]\n",
    "\n",
    "eqn1 = sum_prob(P)\n",
    "S_P = hadamard_product(P)\n",
    "eqn2 = S_P.T * U\n",
    "eqn3 = cpo(eqn1,eqn2,P)\n",
    "eqns = vec([eqn3 eqn1])\n",
    "vars = unique(P)\n",
    "sol = solve(eqns,vars)\n",
    "sol = [Eq(var[1],var[2]) for var in sol] "
   ]
  },
  {
   "cell_type": "markdown",
   "metadata": {},
   "source": [
    "#### Grab the Dollar\n",
    "\n",
    "Rasmusen (pp. 73)\n",
    "\n",
    "Correto"
   ]
  },
  {
   "cell_type": "code",
   "execution_count": 61,
   "metadata": {},
   "outputs": [
    {
     "data": {
      "text/latex": [
       "$\\left[ \\begin{array}{r}\\alpha^{1}_{1} = \\frac{1}{2}\\\\\\alpha^{2}_{1} = \\frac{1}{2}\\\\\\alpha^{1}_{2} = \\frac{1}{2}\\\\\\alpha^{2}_{2} = \\frac{1}{2}\\end{array} \\right]$\n"
      ],
      "text/plain": [
       "4-element Array{Sym,1}:\n",
       " α¹₁ = 1/2\n",
       " α²₁ = 1/2\n",
       " α¹₂ = 1/2\n",
       " α²₂ = 1/2"
      ]
     },
     "execution_count": 61,
     "metadata": {},
     "output_type": "execute_result"
    }
   ],
   "source": [
    "U = [-1 -1;1 0;0 1;0 0]\n",
    "\n",
    "eqn1 = sum_prob(P)\n",
    "S_P = hadamard_product(P)\n",
    "eqn2 = S_P.T * U\n",
    "eqn3 = cpo(eqn1,eqn2,P)\n",
    "eqns = vec([eqn3 eqn1])\n",
    "vars = unique(P)\n",
    "sol = solve(eqns,vars)\n",
    "sol = [Eq(var[1],var[2]) for var in sol] "
   ]
  },
  {
   "cell_type": "markdown",
   "metadata": {},
   "source": [
    "#### The Civic Duty Game\n",
    "\n",
    "Rasmusen (pp. 80)\n",
    "\n",
    "Correto"
   ]
  },
  {
   "cell_type": "code",
   "execution_count": 60,
   "metadata": {},
   "outputs": [
    {
     "data": {
      "text/latex": [
       "$\\left[ \\begin{array}{r}\\alpha^{1}_{1} = \\frac{3}{10}\\\\\\alpha^{2}_{1} = \\frac{7}{10}\\\\\\alpha^{1}_{2} = \\frac{3}{10}\\\\\\alpha^{2}_{2} = \\frac{7}{10}\\end{array} \\right]$\n"
      ],
      "text/plain": [
       "4-element Array{Sym,1}:\n",
       " α¹₁ = 3/10\n",
       " α²₁ = 7/10\n",
       " α¹₂ = 3/10\n",
       " α²₂ = 7/10"
      ]
     },
     "execution_count": 60,
     "metadata": {},
     "output_type": "execute_result"
    }
   ],
   "source": [
    "U = [0 0;10 7;7 10;7 7]\n",
    "\n",
    "eqn1 = sum_prob(P)\n",
    "S_P = hadamard_product(P)\n",
    "eqn2 = S_P.T * U\n",
    "eqn3 = cpo(eqn1,eqn2,P)\n",
    "eqns = vec([eqn3 eqn1])\n",
    "vars = unique(P)\n",
    "sol = solve(eqns,vars)\n",
    "sol = [Eq(var[1],var[2]) for var in sol] "
   ]
  },
  {
   "cell_type": "markdown",
   "metadata": {},
   "source": [
    "#### The Civic Duty Game (simbolic)\n",
    "\n",
    "Rasmusen (pp. 77)\n",
    "\n",
    "Correto"
   ]
  },
  {
   "cell_type": "code",
   "execution_count": 58,
   "metadata": {},
   "outputs": [
    {
     "data": {
      "text/latex": [
       "$\\left[ \\begin{array}{r}\\alpha^{1}_{1} = \\frac{y - z}{- w + x + y - z}\\\\\\alpha^{2}_{1} = \\frac{- w + x}{- w + x + y - z}\\\\\\alpha^{1}_{2} = \\frac{- b + d}{a - b - c + d}\\\\\\alpha^{2}_{2} = \\frac{a - c}{a - b - c + d}\\end{array} \\right]$\n"
      ],
      "text/plain": [
       "4-element Array{Sym,1}:\n",
       "  Eq(alpha_1^1, (y - z)/(-w + x + y - z))\n",
       " Eq(alpha_1^2, (-w + x)/(-w + x + y - z))\n",
       "  Eq(alpha_2^1, (-b + d)/(a - b - c + d))\n",
       "   Eq(alpha_2^2, (a - c)/(a - b - c + d))"
      ]
     },
     "execution_count": 58,
     "metadata": {},
     "output_type": "execute_result"
    }
   ],
   "source": [
    "a,w,b,x,c,y,d,z = symbols(\"a,w,b,x,c,y,d,z\", real = true)\n",
    "\n",
    "U = [a w;b x;c y;d z]\n",
    "\n",
    "eqn1 = sum_prob(P)\n",
    "S_P = hadamard_product(P)\n",
    "eqn2 = S_P.T * U\n",
    "eqn3 = cpo(eqn1,eqn2,P)\n",
    "eqns = vec([eqn3 eqn1])\n",
    "vars = unique(P)\n",
    "sol = solve(eqns,vars)\n",
    "sol = [Eq(var[1],var[2]) for var in sol] "
   ]
  },
  {
   "cell_type": "markdown",
   "metadata": {},
   "source": [
    "#### Auditing Game I\n",
    "Rasmusen (pp. 82)"
   ]
  },
  {
   "cell_type": "code",
   "execution_count": 59,
   "metadata": {},
   "outputs": [
    {
     "data": {
      "text/latex": [
       "$\\left[ \\begin{array}{r}\\alpha^{1}_{1} = \\frac{1}{f}\\\\\\alpha^{2}_{1} = \\frac{f - 1}{f}\\\\\\alpha^{1}_{2} = \\frac{c}{4}\\\\\\alpha^{2}_{2} = 1 - \\frac{c}{4}\\end{array} \\right]$\n"
      ],
      "text/plain": [
       "4-element Array{Sym,1}:\n",
       "       Eq(alpha_1^1, 1/f)\n",
       " Eq(alpha_1^2, (f - 1)/f)\n",
       "       Eq(alpha_2^1, c/4)\n",
       "   Eq(alpha_2^2, 1 - c/4)"
      ]
     },
     "execution_count": 59,
     "metadata": {},
     "output_type": "execute_result"
    }
   ],
   "source": [
    "c,f = symbols(\"c,f\", real = true)\n",
    "\n",
    "U = [4-c -f;4-c -1;0 0;4 -1]\n",
    "\n",
    "eqn1 = sum_prob(P)\n",
    "S_P = hadamard_product(P)\n",
    "eqn2 = S_P.T * U\n",
    "eqn3 = cpo(eqn1,eqn2,P)\n",
    "eqns = vec([eqn3 eqn1])\n",
    "vars = unique(P)\n",
    "sol = solve(eqns,vars)\n",
    "sol = [Eq(var[1] , var[2]) for var in sol] "
   ]
  }
 ],
 "metadata": {
  "kernelspec": {
   "display_name": "Julia 1.5.3",
   "language": "julia",
   "name": "julia-1.5"
  },
  "language_info": {
   "file_extension": ".jl",
   "mimetype": "application/julia",
   "name": "julia",
   "version": "1.5.3"
  }
 },
 "nbformat": 4,
 "nbformat_minor": 4
}
