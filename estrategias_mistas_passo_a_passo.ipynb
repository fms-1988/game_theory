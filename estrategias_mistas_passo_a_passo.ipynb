{
 "cells": [
  {
   "cell_type": "markdown",
   "metadata": {},
   "source": [
    "## Estratégia Mista (Exemplos)"
   ]
  },
  {
   "cell_type": "code",
   "execution_count": 3,
   "metadata": {},
   "outputs": [
    {
     "data": {
      "text/plain": [
       "matriz_S (generic function with 1 method)"
      ]
     },
     "execution_count": 3,
     "metadata": {},
     "output_type": "execute_result"
    }
   ],
   "source": [
    "using SymPy\n",
    "\n",
    "# produto cartesiano\n",
    "function matriz_S(x) #função para gerar matriz de estratégias\n",
    "    S = vec(collect(Base.product(reverse(x)...))) #produto cartesiano\n",
    "    #transformar conjunto de estratégias em matriz\n",
    "    S_M = []\n",
    "    for i = 1:length(S[1])\n",
    "        d = [y[i] for y in S]\n",
    "        if i == 1 S_M = [d; ] else S_M = [S_M d] end\n",
    "    end\n",
    "    S_M = reverse(S_M, dims = 2)\n",
    "    return S_M\n",
    "end"
   ]
  },
  {
   "cell_type": "code",
   "execution_count": 4,
   "metadata": {},
   "outputs": [
    {
     "data": {
      "text/latex": [
       "$\\left[ \\begin{array}{rr}2 x&- x\\\\- x&2 x\\\\- x&2 x\\\\2 x&- x\\end{array}\\right]$\n"
      ],
      "text/plain": [
       "4×2 Array{Sym,2}:\n",
       " 2⋅x   -x\n",
       "  -x  2⋅x\n",
       "  -x  2⋅x\n",
       " 2⋅x   -x"
      ]
     },
     "execution_count": 4,
     "metadata": {},
     "output_type": "execute_result"
    }
   ],
   "source": [
    "#matriz de estratégias\n",
    "a1 = [Sym(\"a_$i^$j\") for i=1 for j=[\"c\",\"nc\"]]\n",
    "a2 = [Sym(\"a_$i^$j\") for i=2 for j=[\"c\",\"nc\"]]\n",
    "A = [a1 , a2]\n",
    "S = matriz_S(A) \n",
    "\n",
    "#matriz de Probabilidades\n",
    "p1 = [Sym(\"alpha_$i^$j\") for i=1 for j=[\"c\",\"nc\"]]\n",
    "p2 = [Sym(\"alpha_$i^$j\") for i=2 for j=[\"c\",\"nc\"]]\n",
    "P = [p1 , p2]\n",
    "P = matriz_S(P) \n",
    "\n",
    "#matriz utilidade\n",
    "x = symbols(\"x\", integer=true, positive = true, nonzero = true)\n",
    "U = [2*x -x; -x 2*x;-x 2*x;2*x -x] \n",
    "\n"
   ]
  },
  {
   "cell_type": "code",
   "execution_count": 5,
   "metadata": {},
   "outputs": [
    {
     "data": {
      "text/latex": [
       "$\\left[ \\begin{array}{rr}\\alpha^{c}_{1} + \\alpha^{nc}_{1} = 1&\\alpha^{c}_{2} + \\alpha^{nc}_{2} = 1\\end{array}\\right]$\n"
      ],
      "text/plain": [
       "1×2 Array{Sym,2}:\n",
       " α_1__c + α_1__nc = 1  α_2__c + α_2__nc = 1"
      ]
     },
     "execution_count": 5,
     "metadata": {},
     "output_type": "execute_result"
    }
   ],
   "source": [
    "# a soma das probabilidades para cada jogador deve ser iguala um\n",
    "function sum_prob(x)\n",
    "    eqn = []\n",
    "    for i = 1:size(x, 2) \n",
    "        f = Eq(sum(unique(x[:,i])),1)\n",
    "        if i == 1 eqn = [f; ] else eqn = [eqn f] end\n",
    "    end\n",
    "    return eqn\n",
    "end\n",
    "eqn1 = sum_prob(P)"
   ]
  },
  {
   "cell_type": "code",
   "execution_count": 6,
   "metadata": {},
   "outputs": [
    {
     "data": {
      "text/latex": [
       "$\\left[ \\begin{array}{rr}2 \\alpha^{c}_{1} \\alpha^{c}_{2} x - \\alpha^{c}_{1} \\alpha^{nc}_{2} x - \\alpha^{nc}_{1} \\alpha^{c}_{2} x + 2 \\alpha^{nc}_{1} \\alpha^{nc}_{2} x&- \\alpha^{c}_{1} \\alpha^{c}_{2} x + 2 \\alpha^{c}_{1} \\alpha^{nc}_{2} x + 2 \\alpha^{nc}_{1} \\alpha^{c}_{2} x - \\alpha^{nc}_{1} \\alpha^{nc}_{2} x\\end{array}\\right]$\n"
      ],
      "text/plain": [
       "1×2 Array{Sym,2}:\n",
       " 2⋅α_1__c⋅α_2__c⋅x - α_1__c⋅α_2__nc⋅x - α_1__nc⋅α_2__c⋅x + 2⋅α_1__nc⋅α_2__nc⋅x  …  -α_1__c⋅α_2__c⋅x + 2⋅α_1__c⋅α_2__nc⋅x + 2⋅α_1__nc⋅α_2__c⋅x - α_1__nc⋅α_2__nc⋅x"
      ]
     },
     "execution_count": 6,
     "metadata": {},
     "output_type": "execute_result"
    }
   ],
   "source": [
    "#Produto Hadamard (produto entre elementos de uma mesma linha)\n",
    "#cada linha representa uma probabilidade condicional\n",
    "function hadamard_product(x)\n",
    "    ncol = size(x, 2)\n",
    "    d = []\n",
    "    for i = 1:(ncol - 1)\n",
    "        if i == 1 d = (x[:,i] .* x[:,(i+1)]) else d = (x[:,i+1] .* d) end   \n",
    "    end    \n",
    "    return d\n",
    "end\n",
    "\n",
    "S_P = hadamard_product(P)\n",
    "\n",
    "#utilidade esperada de cada jogador\n",
    "eqn2 = S_P.T * U"
   ]
  },
  {
   "cell_type": "code",
   "execution_count": 8,
   "metadata": {},
   "outputs": [
    {
     "data": {
      "text/latex": [
       "$\\left[ \\begin{array}{rr}3 \\alpha^{c}_{2} x - 3 \\alpha^{nc}_{2} x = 0&- 3 \\alpha^{c}_{1} x + 3 \\alpha^{nc}_{1} x = 0\\end{array}\\right]$\n"
      ],
      "text/plain": [
       "1×2 Array{Sym,2}:\n",
       " 3⋅α_2__c⋅x - 3⋅α_2__nc⋅x = 0  …  -3⋅α_1__c⋅x + 3⋅α_1__nc⋅x = 0"
      ]
     },
     "execution_count": 8,
     "metadata": {},
     "output_type": "execute_result"
    }
   ],
   "source": [
    "#encontrar condições de primeira ordem para cada jogador (pl)\n",
    "function cpo(eqn1,eqn2,P)\n",
    "    ee = []\n",
    "    eqn3 = copy(eqn2)\n",
    "    for pl in 1:size(P,2) # pl = jogador\n",
    "        var = unique(P[:,pl])\n",
    "        for i in 1:(size(var)[1]-1)\n",
    "            for j in var \n",
    "                if j != i \n",
    "                    ee = eqn2[pl].subs.(j,solve(eqn1[pl],j)) \n",
    "                end\n",
    "            end\n",
    "            eq = Eq(diff.(ee[1],var[i]),0)\n",
    "            eqn3[i,pl] = eq\n",
    "        end\n",
    "    end\n",
    "    return eqn3\n",
    "end\n",
    "\n",
    "\n",
    "eqn3 = cpo(eqn1,eqn2,P)"
   ]
  },
  {
   "cell_type": "code",
   "execution_count": 10,
   "metadata": {},
   "outputs": [
    {
     "data": {
      "text/latex": [
       "$\\left[ \\begin{array}{r}3 \\alpha^{c}_{2} x - 3 \\alpha^{nc}_{2} x = 0\\\\- 3 \\alpha^{c}_{1} x + 3 \\alpha^{nc}_{1} x = 0\\\\\\alpha^{c}_{1} + \\alpha^{nc}_{1} = 1\\\\\\alpha^{c}_{2} + \\alpha^{nc}_{2} = 1\\end{array} \\right]$\n"
      ],
      "text/plain": [
       "4-element Array{Sym,1}:\n",
       "  3⋅α_2__c⋅x - 3⋅α_2__nc⋅x = 0\n",
       " -3⋅α_1__c⋅x + 3⋅α_1__nc⋅x = 0\n",
       "          α_1__c + α_1__nc = 1\n",
       "          α_2__c + α_2__nc = 1"
      ]
     },
     "execution_count": 10,
     "metadata": {},
     "output_type": "execute_result"
    }
   ],
   "source": [
    "eqns = vec([eqn3 eqn1])"
   ]
  },
  {
   "cell_type": "code",
   "execution_count": 11,
   "metadata": {},
   "outputs": [
    {
     "data": {
      "text/latex": [
       "$\\left[ \\begin{array}{r}\\alpha^{nc}_{2} = \\frac{1}{2}\\\\\\alpha^{c}_{1} = \\frac{1}{2}\\\\\\alpha^{nc}_{1} = \\frac{1}{2}\\\\\\alpha^{c}_{2} = \\frac{1}{2}\\end{array} \\right]$\n"
      ],
      "text/plain": [
       "4-element Array{Sym,1}:\n",
       " α_2__nc = 1/2\n",
       "  α_1__c = 1/2\n",
       " α_1__nc = 1/2\n",
       "  α_2__c = 1/2"
      ]
     },
     "execution_count": 11,
     "metadata": {},
     "output_type": "execute_result"
    }
   ],
   "source": [
    "# variáveis do sistema\n",
    "#vars = []; for i in eqns.free_symbols append!(vars,i) end; var = reverse(vars) #criar lista de variáveis\n",
    "vars = unique(P)\n",
    "\n",
    "solucao = solve(eqns,vars)\n",
    "sol = [Eq(var[1],var[2]) for var in solucao] "
   ]
  }
 ],
 "metadata": {
  "kernelspec": {
   "display_name": "Julia 1.5.3",
   "language": "julia",
   "name": "julia-1.5"
  },
  "language_info": {
   "file_extension": ".jl",
   "mimetype": "application/julia",
   "name": "julia",
   "version": "1.5.3"
  }
 },
 "nbformat": 4,
 "nbformat_minor": 4
}
