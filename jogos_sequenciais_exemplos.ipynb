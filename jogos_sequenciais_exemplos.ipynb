{
 "cells": [
  {
   "cell_type": "code",
   "execution_count": 65,
   "metadata": {},
   "outputs": [
    {
     "data": {
      "text/plain": [
       "EN_Jogo_sequencial (generic function with 1 method)"
      ]
     },
     "execution_count": 65,
     "metadata": {},
     "output_type": "execute_result"
    }
   ],
   "source": [
    "using SymPy\n",
    "\n",
    "function matriz_S(x) #função para gerar matriz de estratégias\n",
    "    S = vec(collect(Base.product(reverse(x)...))) #produto cartesiano\n",
    "    #transformar conjunto de estratégias em matriz\n",
    "    S_M = []\n",
    "    for i = 1:length(S[1])\n",
    "        d = [y[i] for y in S]\n",
    "        if i == 1 S_M = [d; ] else S_M = [S_M d] end\n",
    "    end\n",
    "    S_M = reverse(S_M, dims = 2)\n",
    "    return S_M\n",
    "end\n",
    "\n",
    "\n",
    "function melhores_respostas(x,y) #S e U\n",
    "ncol = size(x, 2) #numero de jogadores\n",
    "BR = copy(x) #matriz contendo as melhores respostas\n",
    "for i = 1:ncol #para cada agente i\n",
    "    S_not_i = sum(x[:, 1:end .!= i], dims=2) # possiveis estratégias dos oponentes de i\n",
    "    for j in unique(S_not_i) \n",
    "        k = findall(S_not_i .== j) #conjunto de estratégias contendo a estratégia j\n",
    "        l = first.(Tuple.(k)) # linhas referentes à estratégia j\n",
    "        h = findall(y[l,i] .== max(maximum(y[l,i]))) #estratégias do indivíduo i que maximisam sua utilidade frente à estrategia J\n",
    "        #criar matriz BR\n",
    "        for ll in l[h] BR[ll,i] = Sym(string(BR[ll,i],\"^*\")) end #assinalar melhores respostas com *\n",
    "    end\n",
    "end\n",
    "return BR\n",
    "end\n",
    "\n",
    "function EN_Jogo_sequencial(S,U)\n",
    "BR = copy(S)\n",
    "i = 0\n",
    "for t = reverse(1:size(S, 2)) #para cada período t\n",
    "    i = i + 1 #jogador i\n",
    "    r = []\n",
    "    S_not_i = sum(S[:, 1:(t-1)], dims=2) #estratégias dos oponentes \n",
    "    for j in unique(S_not_i) \n",
    "        ll = findall(S_not_i .== j) #linhas contendo a estratégia j\n",
    "        l = first.(Tuple.(ll))\n",
    "        br = findall(U[l,i] .== (maximum(U[l,i]))) #encontrar BR\n",
    "        for ll in l[br] BR[ll,i] = Sym(string(BR[ll,i],\"^*\")) end\n",
    "    end\n",
    "end\n",
    "BR\n",
    "end\n",
    "\n"
   ]
  },
  {
   "cell_type": "markdown",
   "metadata": {},
   "source": [
    "### Exemolo 1"
   ]
  },
  {
   "cell_type": "code",
   "execution_count": 7,
   "metadata": {},
   "outputs": [
    {
     "data": {
      "text/plain": [
       "4×2 Array{Int64,2}:\n",
       " 4  2\n",
       " 1  1\n",
       " 5  1\n",
       " 2  2"
      ]
     },
     "execution_count": 7,
     "metadata": {},
     "output_type": "execute_result"
    }
   ],
   "source": [
    "a1 = [Sym(\"a_$i^$j\") for i=1 for j=[\"b\",\"t\"]] #acoes do agente 1\n",
    "a2 = [Sym(\"a_$i^$j\") for i=2 for j=[\"d\",\"u\"]] #acoes do agente 2\n",
    "A = [a1 , a2]\n",
    "S = matriz_S(A)\n",
    "\n",
    "U = [4 2;1 1;5 1;2 2]\n"
   ]
  },
  {
   "cell_type": "code",
   "execution_count": 58,
   "metadata": {},
   "outputs": [
    {
     "data": {
      "text/latex": [
       "$\\left[ \\begin{array}{rr}a^{b}_{1}&a^{d *}_{2}\\\\a^{b}_{1}&a^{u}_{2}\\\\a^{t *}_{1}&a^{d}_{2}\\\\a^{t *}_{1}&a^{u *}_{2}\\end{array}\\right]$\n"
      ],
      "text/plain": [
       "4×2 Array{Sym,2}:\n",
       "   a_1__b  a_2__d__*\n",
       "   a_1__b    a_2__u\n",
       " a_1__t__*    a_2__d\n",
       " a_1__t__*  a_2__u__*"
      ]
     },
     "execution_count": 58,
     "metadata": {},
     "output_type": "execute_result"
    }
   ],
   "source": [
    "melhores_respostas(S,U)"
   ]
  },
  {
   "cell_type": "code",
   "execution_count": 57,
   "metadata": {},
   "outputs": [
    {
     "data": {
      "text/latex": [
       "$\\left[ \\begin{array}{rr}a^{b *}_{1}&a^{d *}_{2}\\\\a^{b}_{1}&a^{u}_{2}\\\\a^{t *}_{1}&a^{d}_{2}\\\\a^{t}_{1}&a^{u *}_{2}\\end{array}\\right]$\n"
      ],
      "text/plain": [
       "4×2 Array{Sym,2}:\n",
       " a_1__b__*  a_2__d__*\n",
       "   a_1__b    a_2__u\n",
       " a_1__t__*    a_2__d\n",
       "   a_1__t  a_2__u__*"
      ]
     },
     "execution_count": 57,
     "metadata": {},
     "output_type": "execute_result"
    }
   ],
   "source": [
    "EN_Jogo_sequencial(S,U)"
   ]
  },
  {
   "cell_type": "markdown",
   "metadata": {},
   "source": [
    "### Exemplo 2"
   ]
  },
  {
   "cell_type": "code",
   "execution_count": 70,
   "metadata": {},
   "outputs": [
    {
     "data": {
      "text/latex": [
       "$\\left[ \\begin{array}{rrr}a^{1}_{1}&a^{1 *}_{2}&a^{1}_{1}\\\\a^{1 *}_{1}&a^{1}_{2}&a^{2 *}_{1}\\\\a^{1}_{1}&a^{2}_{2}&a^{1}_{1}\\\\a^{1 *}_{1}&a^{2 *}_{2}&a^{2 *}_{1}\\\\a^{2}_{1}&a^{1 *}_{2}&a^{1}_{1}\\\\a^{2 *}_{1}&a^{1 *}_{2}&a^{2}_{1}\\\\a^{2}_{1}&a^{2}_{2}&a^{1}_{1}\\\\a^{2 *}_{1}&a^{2}_{2}&a^{2 *}_{1}\\end{array}\\right]$\n"
      ],
      "text/plain": [
       "8×3 Array{Sym,2}:\n",
       "   a¹₁  a_2__1__*    a¹₁\n",
       " a_1__1__*    a¹₂  a_1__2__*\n",
       "   a¹₁    a²₂    a¹₁\n",
       " a_1__1__*  a_2__2__*  a_1__2__*\n",
       "   a²₁  a_2__1__*    a¹₁\n",
       " a_1__2__*  a_2__1__*    a²₁\n",
       "   a²₁    a²₂    a¹₁\n",
       " a_1__2__*    a²₂  a_1__2__*"
      ]
     },
     "execution_count": 70,
     "metadata": {},
     "output_type": "execute_result"
    }
   ],
   "source": [
    "a1_1t = [Sym(\"a_$i^$j\") for i=1 for j=1:2] #acoes do agente 1 no tempo 1\n",
    "a2_2t = [Sym(\"a_$i^$j\") for i=2 for j=1:2] #acoes do agente 2 no tempo 2\n",
    "a1_3t = [Sym(\"a_$i^$j\") for i=1 for j=1:2] #acoes do agente 1 no tempo 3\n",
    "A = [a1_1t , a2_2t , a1_3t] # conjunto de todas as ações\n",
    "S = matriz_S(A) \n",
    "\n",
    "#matriz utilidade\n",
    "U = [2 2 2;3 1 3;2 0 2;3 2 3;0 5 0;1 5 1;2 2 2;3 2 3]\n",
    "\n",
    "en = EN_Jogo_sequencial(S,U)"
   ]
  },
  {
   "cell_type": "code",
   "execution_count": 67,
   "metadata": {},
   "outputs": [
    {
     "name": "stdout",
     "output_type": "stream",
     "text": [
      "\\begin{equation}\n",
      "\\left[\n",
      "\\begin{array}{ccc}\n",
      "a_1.1^1 & a_2.2^1^* & a_1.3^1 \\\\\n",
      "a_1.1^1^* & a_2.2^1 & a_1.3^2^* \\\\\n",
      "a_1.1^1 & a_2.2^2 & a_1.3^1 \\\\\n",
      "a_1.1^1^* & a_2.2^2^* & a_1.3^2^* \\\\\n",
      "a_1.1^2 & a_2.2^1^* & a_1.3^1 \\\\\n",
      "a_1.1^2^* & a_2.2^1^* & a_1.3^2 \\\\\n",
      "a_1.1^2 & a_2.2^2 & a_1.3^1 \\\\\n",
      "a_1.1^2^* & a_2.2^2 & a_1.3^2^* \\\\\n",
      "\\end{array}\n",
      "\\right]\n",
      "\\end{equation}\n"
     ]
    }
   ],
   "source": [
    "using Latexify\n",
    "print(latexify(en))"
   ]
  }
 ],
 "metadata": {
  "kernelspec": {
   "display_name": "Julia nodeps 1.5.3",
   "language": "julia",
   "name": "julia-nodeps-1.5"
  },
  "language_info": {
   "file_extension": ".jl",
   "mimetype": "application/julia",
   "name": "julia",
   "version": "1.5.3"
  }
 },
 "nbformat": 4,
 "nbformat_minor": 4
}
