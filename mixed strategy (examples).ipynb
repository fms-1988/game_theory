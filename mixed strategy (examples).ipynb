{
 "cells": [
  {
   "cell_type": "markdown",
   "id": "3f684726-1fa2-4ca7-91b1-43441a25b661",
   "metadata": {},
   "source": [
    "## Algorithm"
   ]
  },
  {
   "cell_type": "markdown",
   "id": "646169e0-9711-4815-b839-cb31db2344f6",
   "metadata": {},
   "source": [
    "Here we are going to solve some classic games using our algorithm. The games were taken from textbooks and game theory classes that can be found on the internet. For simplicity, we condense the algorithm into a single function called \"solve_game\". If you would like to see the resolution step by step, we have also included a file."
   ]
  },
  {
   "cell_type": "code",
   "execution_count": 37,
   "id": "341d0f77-677f-4926-a847-1bf38a7aec10",
   "metadata": {},
   "outputs": [
    {
     "data": {
      "text/plain": [
       "foc (generic function with 1 method)"
      ]
     },
     "execution_count": 37,
     "metadata": {},
     "output_type": "execute_result"
    }
   ],
   "source": [
    "using SymPy\n",
    "\n",
    "# equations\n",
    "function s_matrix(x) #function to generate strategy matrix\n",
    "    S = vec(collect(Base.product(reverse(x)...))) #artesian product\n",
    "    #transform set of strategies into matrix\n",
    "    S_M = []\n",
    "    for i = 1:length(S[1])\n",
    "        d = [y[i] for y in S]\n",
    "        if i == 1 S_M = [d; ] else S_M = [S_M d] end\n",
    "    end\n",
    "    S_M = reverse(S_M, dims = 2)\n",
    "    return S_M\n",
    "end\n",
    "\n",
    "# the sum of the odds for each player must equal one \n",
    "function sum_prob(x)\n",
    "    eqn = []\n",
    "    for i = 1:size(x, 2) \n",
    "        f = Eq(sum(unique(x[:,i])),1)\n",
    "        if i == 1 eqn = [f; ] else eqn = [eqn f] end\n",
    "    end\n",
    "    return eqn\n",
    "end\n",
    "\n",
    "#Hadamard Product\n",
    "function hadamard_product(x)\n",
    "    ncol = size(x, 2)\n",
    "    d = []\n",
    "    for i = 1:(ncol - 1)\n",
    "        if i == 1 d = (x[:,i] .* x[:,(i+1)]) else d = (x[:,i+1] .* d) end   \n",
    "    end    \n",
    "    return d\n",
    "end\n",
    "\n",
    "\n",
    "\n",
    "function foc(eq1,eq2,P)\n",
    "    eq2_aux = []\n",
    "    eq3 = Vector{Sym}()\n",
    "    for pl in 1:size(P,2) # pl = jogador\n",
    "        var = unique(P[:,pl])\n",
    "        for i in 1:(size(var)[1]-1)\n",
    "            for j in var \n",
    "                if j != var[i] \n",
    "                    eq2_aux = eq2[pl].subs.(j,solve(eq1[pl],j))\n",
    "                    eq = Eq(diff.(eq2_aux[1],var[i]),0)\n",
    "                    append!(eq3, eq)\n",
    "                end\n",
    "            end\n",
    "        end\n",
    "    end\n",
    "    return eq3\n",
    "end\n"
   ]
  },
  {
   "cell_type": "markdown",
   "id": "0dbe8505-022d-4ae1-a330-02f6b3068a77",
   "metadata": {},
   "source": [
    "## Example: Battle of the sexes \n",
    "https://saylordotorg.github.io/text_introduction-to-economic-analysis/s17-03-mixed-strategies.html"
   ]
  },
  {
   "cell_type": "code",
   "execution_count": 38,
   "id": "4bb186a3-406e-497d-92c6-d2ad28b671de",
   "metadata": {},
   "outputs": [
    {
     "data": {
      "text/plain": [
       "4×2 Matrix{Int64}:\n",
       " 3  2\n",
       " 1  1\n",
       " 0  0\n",
       " 2  3"
      ]
     },
     "execution_count": 38,
     "metadata": {},
     "output_type": "execute_result"
    }
   ],
   "source": [
    "#strategy matrix\n",
    "a1 = [Sym(\"a_$i^$j\") for i=1 for j=[\"1\",\"2\"]]\n",
    "a2 = [Sym(\"a_$i^$j\") for i=2 for j=[\"1\",\"2\"]]\n",
    "A = [a1 , a2]\n",
    "S = s_matrix(A) \n",
    "\n",
    "#Probability matrix \n",
    "p1 = [symbols(\"alpha_$i^$j\", real = true, positive = true) for i=1 for j=[\"1\",\"2\"]]\n",
    "p2 = [symbols(\"alpha_$i^$j\", real = true, positive = true) for i=2 for j=[\"1\",\"2\"]]\n",
    "P = [p1 , p2]\n",
    "P = s_matrix(P) \n",
    "\n",
    "#payoff matrix\n",
    "U = [3 2;1 1;0 0;2 3]"
   ]
  },
  {
   "cell_type": "code",
   "execution_count": 39,
   "id": "86c2159e-b427-476f-b0c9-26c95b696fe6",
   "metadata": {},
   "outputs": [
    {
     "data": {
      "text/latex": [
       "$\\left[ \\begin{array}{r}\\alpha^{1}_{2} = \\frac{1}{4}\\\\\\alpha^{1}_{1} = \\frac{3}{4}\\\\\\alpha^{2}_{1} = \\frac{1}{4}\\\\\\alpha^{2}_{2} = \\frac{3}{4}\\end{array} \\right]$\n"
      ],
      "text/plain": [
       "4-element Vector{Sym}:\n",
       " α¹₂ = 1/4\n",
       " α¹₁ = 3/4\n",
       " α²₁ = 1/4\n",
       " α²₂ = 3/4"
      ]
     },
     "execution_count": 39,
     "metadata": {},
     "output_type": "execute_result"
    }
   ],
   "source": [
    "eq1 = sum_prob(P) #first set of equations\n",
    "S_P = hadamard_product(P) #hadamard product\n",
    "eq2 = S_P.T * U #spected payoff\n",
    "eq3 = foc(eq1,eq2,P) #second set of equations\n",
    "eq4 = append!(vec(eq1), eq3) # join first and second set of equations \n",
    "vars = unique(P) #system variables \n",
    "sol = solve(eq4,vars) #solve sistem\n",
    "sol = [Eq(var[1],var[2]) for var in sol] #print result"
   ]
  },
  {
   "cell_type": "markdown",
   "id": "8eda12ad-90c3-4d95-9767-327fced2f180",
   "metadata": {},
   "source": [
    "From now on, we're going to condense these steps into just one function caled: \"solve_game\". This new function depends only on the probability matrix and the payoff matrix. "
   ]
  },
  {
   "cell_type": "code",
   "execution_count": 40,
   "id": "17304e66-0f2c-4e9c-9d77-584456932676",
   "metadata": {},
   "outputs": [
    {
     "data": {
      "text/plain": [
       "solve_game (generic function with 1 method)"
      ]
     },
     "execution_count": 40,
     "metadata": {},
     "output_type": "execute_result"
    }
   ],
   "source": [
    "function solve_game(P,U)\n",
    "    eq1 = sum_prob(P) #first set of equations\n",
    "    S_P = hadamard_product(P) #hadamard product\n",
    "    eq2 = S_P.T * U #spected payoff\n",
    "    eq3 = foc(eq1,eq2,P) #second set of equations\n",
    "    eq4 = append!(vec(eq1), eq3) # join first and second set of equations \n",
    "    vars = unique(P) #system variables \n",
    "    sol = solve(eq4,vars) #solve sistem\n",
    "    sol = [Eq(var[1],var[2]) for var in sol] #print result\n",
    "    return sol\n",
    "end"
   ]
  },
  {
   "cell_type": "markdown",
   "id": "aaa36951-3d05-4138-a587-596a493d64a6",
   "metadata": {},
   "source": [
    "## Example: Matching pennies\n",
    "\n",
    "https://saylordotorg.github.io/text_introduction-to-economic-analysis/s17-03-mixed-strategies.html"
   ]
  },
  {
   "cell_type": "code",
   "execution_count": 41,
   "id": "4bdde979-3d9e-4947-ab71-74a0fb8a5d9c",
   "metadata": {},
   "outputs": [
    {
     "data": {
      "text/latex": [
       "$\\left[ \\begin{array}{r}\\alpha^{1}_{2} = \\frac{1}{2}\\\\\\alpha^{1}_{1} = \\frac{1}{2}\\\\\\alpha^{2}_{1} = \\frac{1}{2}\\\\\\alpha^{2}_{2} = \\frac{1}{2}\\end{array} \\right]$\n"
      ],
      "text/plain": [
       "4-element Vector{Sym}:\n",
       " α¹₂ = 1/2\n",
       " α¹₁ = 1/2\n",
       " α²₁ = 1/2\n",
       " α²₂ = 1/2"
      ]
     },
     "execution_count": 41,
     "metadata": {},
     "output_type": "execute_result"
    }
   ],
   "source": [
    "U = [1 -1;-1 1;-1 1;1 -1]\n",
    "solve_game(P,U)"
   ]
  },
  {
   "cell_type": "markdown",
   "id": "3dcc63e1-d771-4961-a2db-be6c924c3c58",
   "metadata": {},
   "source": [
    "## Example: Chicken\n",
    "\n",
    "https://saylordotorg.github.io/text_introduction-to-economic-analysis/s17-03-mixed-strategies.html"
   ]
  },
  {
   "cell_type": "code",
   "execution_count": 42,
   "id": "06e661bc-70a2-4ae2-8cbe-b7894e7dfa9d",
   "metadata": {},
   "outputs": [
    {
     "data": {
      "text/latex": [
       "$\\left[ \\begin{array}{r}\\alpha^{1}_{2} = \\frac{3}{4}\\\\\\alpha^{1}_{1} = \\frac{3}{4}\\\\\\alpha^{2}_{1} = \\frac{1}{4}\\\\\\alpha^{2}_{2} = \\frac{1}{4}\\end{array} \\right]$\n"
      ],
      "text/plain": [
       "4-element Vector{Sym}:\n",
       " α¹₂ = 3/4\n",
       " α¹₁ = 3/4\n",
       " α²₁ = 1/4\n",
       " α²₂ = 1/4"
      ]
     },
     "execution_count": 42,
     "metadata": {},
     "output_type": "execute_result"
    }
   ],
   "source": [
    "U = [0 0;-1 1;1 -1;-4 -4]\n",
    "solve_game(P,U)"
   ]
  },
  {
   "cell_type": "markdown",
   "id": "8fecac51-afef-4add-b205-79ec494936e3",
   "metadata": {},
   "source": [
    "## Example: Welfare Game\n",
    "Rasmusen (pp. 67)"
   ]
  },
  {
   "cell_type": "code",
   "execution_count": 43,
   "id": "bec59622-dc74-4691-a4e5-03121e03289e",
   "metadata": {},
   "outputs": [
    {
     "data": {
      "text/latex": [
       "$\\left[ \\begin{array}{r}\\alpha^{1}_{2} = \\frac{1}{5}\\\\\\alpha^{1}_{1} = \\frac{1}{2}\\\\\\alpha^{2}_{1} = \\frac{1}{2}\\\\\\alpha^{2}_{2} = \\frac{4}{5}\\end{array} \\right]$\n"
      ],
      "text/plain": [
       "4-element Vector{Sym}:\n",
       " α¹₂ = 1/5\n",
       " α¹₁ = 1/2\n",
       " α²₁ = 1/2\n",
       " α²₂ = 4/5"
      ]
     },
     "execution_count": 43,
     "metadata": {},
     "output_type": "execute_result"
    }
   ],
   "source": [
    "U = [3 2;-1 3;-1 1;0 0]\n",
    "solve_game(P,U)"
   ]
  },
  {
   "cell_type": "markdown",
   "id": "14355ec6-9104-44c9-8feb-ce45bf5e48ab",
   "metadata": {},
   "source": [
    "## Example: Grab the Dollar\n",
    "\n",
    "Rasmusen (pp. 73)"
   ]
  },
  {
   "cell_type": "code",
   "execution_count": 28,
   "id": "4bb0d665-c387-401f-a615-8d54116554d6",
   "metadata": {},
   "outputs": [
    {
     "data": {
      "text/latex": [
       "$\\left[ \\begin{array}{r}\\alpha^{1}_{2} = \\frac{1}{2}\\\\\\alpha^{1}_{1} = \\frac{1}{2}\\\\\\alpha^{2}_{1} = \\frac{1}{2}\\\\\\alpha^{2}_{2} = \\frac{1}{2}\\end{array} \\right]$\n"
      ],
      "text/plain": [
       "4-element Vector{Sym}:\n",
       " α¹₂ = 1/2\n",
       " α¹₁ = 1/2\n",
       " α²₁ = 1/2\n",
       " α²₂ = 1/2"
      ]
     },
     "execution_count": 28,
     "metadata": {},
     "output_type": "execute_result"
    }
   ],
   "source": [
    "U = [-1 -1;1 0;0 1;0 0]\n",
    "solve_game(P,U)"
   ]
  },
  {
   "cell_type": "markdown",
   "id": "5861e214-874b-4709-951a-0372883328c3",
   "metadata": {},
   "source": [
    "## Example: The Civic Duty Game\n",
    "\n",
    "Rasmusen (pp. 80)"
   ]
  },
  {
   "cell_type": "code",
   "execution_count": 29,
   "id": "93b23b4c-d5cd-485d-bec7-3189b33e2f7e",
   "metadata": {},
   "outputs": [
    {
     "data": {
      "text/latex": [
       "$\\left[ \\begin{array}{r}\\alpha^{1}_{2} = \\frac{3}{10}\\\\\\alpha^{1}_{1} = \\frac{3}{10}\\\\\\alpha^{2}_{1} = \\frac{7}{10}\\\\\\alpha^{2}_{2} = \\frac{7}{10}\\end{array} \\right]$\n"
      ],
      "text/plain": [
       "4-element Vector{Sym}:\n",
       " α¹₂ = 3/10\n",
       " α¹₁ = 3/10\n",
       " α²₁ = 7/10\n",
       " α²₂ = 7/10"
      ]
     },
     "execution_count": 29,
     "metadata": {},
     "output_type": "execute_result"
    }
   ],
   "source": [
    "U = [0 0;10 7;7 10;7 7]\n",
    "solve_game(P,U)"
   ]
  },
  {
   "cell_type": "markdown",
   "id": "edc76834-c124-459a-8d6b-4f42526b08e2",
   "metadata": {},
   "source": [
    "## Example: The Civic Duty Game (simbolic)\n",
    "\n",
    "Rasmusen (pp. 77)"
   ]
  },
  {
   "cell_type": "code",
   "execution_count": 30,
   "id": "5320b9cc-06fb-415a-ba1b-76419ddccfe9",
   "metadata": {},
   "outputs": [
    {
     "data": {
      "text/latex": [
       "$\\left[ \\begin{array}{r}\\alpha^{1}_{2} = \\frac{- b + d}{a - b - c + d}\\\\\\alpha^{1}_{1} = \\frac{y - z}{- w + x + y - z}\\\\\\alpha^{2}_{1} = \\frac{- w + x}{- w + x + y - z}\\\\\\alpha^{2}_{2} = \\frac{a - c}{a - b - c + d}\\end{array} \\right]$\n"
      ],
      "text/plain": [
       "4-element Vector{Sym}:\n",
       "  Eq(alpha_2^1, (-b + d)/(a - b - c + d))\n",
       "  Eq(alpha_1^1, (y - z)/(-w + x + y - z))\n",
       " Eq(alpha_1^2, (-w + x)/(-w + x + y - z))\n",
       "   Eq(alpha_2^2, (a - c)/(a - b - c + d))"
      ]
     },
     "execution_count": 30,
     "metadata": {},
     "output_type": "execute_result"
    }
   ],
   "source": [
    "a,w,b,x,c,y,d,z = symbols(\"a,w,b,x,c,y,d,z\", real = true)\n",
    "U = [a w;b x;c y;d z]\n",
    "solve_game(P,U)"
   ]
  },
  {
   "cell_type": "markdown",
   "id": "c3a11bd9-be73-423a-9773-ad35a2f3acfc",
   "metadata": {},
   "source": [
    "## Example: Auditing Game I (simbolic)\n",
    "Rasmusen (pp. 82)"
   ]
  },
  {
   "cell_type": "code",
   "execution_count": 31,
   "id": "c1949d8d-06a4-45a7-9478-2adbf4f8fd29",
   "metadata": {},
   "outputs": [
    {
     "data": {
      "text/latex": [
       "$\\left[ \\begin{array}{r}\\alpha^{1}_{2} = \\frac{c}{4}\\\\\\alpha^{1}_{1} = \\frac{1}{f}\\\\\\alpha^{2}_{1} = \\frac{f - 1}{f}\\\\\\alpha^{2}_{2} = 1 - \\frac{c}{4}\\end{array} \\right]$\n"
      ],
      "text/plain": [
       "4-element Vector{Sym}:\n",
       "       Eq(alpha_2^1, c/4)\n",
       "       Eq(alpha_1^1, 1/f)\n",
       " Eq(alpha_1^2, (f - 1)/f)\n",
       "   Eq(alpha_2^2, 1 - c/4)"
      ]
     },
     "execution_count": 31,
     "metadata": {},
     "output_type": "execute_result"
    }
   ],
   "source": [
    "c,f = symbols(\"c,f\", real = true)\n",
    "U = [4-c -f;4-c -1;0 0;4 -1]\n",
    "solve_game(P,U)"
   ]
  },
  {
   "cell_type": "markdown",
   "id": "237fcad8-c22c-44b5-a54e-fd3b3eddda49",
   "metadata": {},
   "source": [
    "## Example: Penalty kicks in soccer (three actions)\n",
    "\n",
    "https://felixmunozgarcia.files.wordpress.com/2017/08/slides_71.pdf"
   ]
  },
  {
   "cell_type": "code",
   "execution_count": 32,
   "id": "a75d922a-2a4f-4551-bee1-603a25829470",
   "metadata": {},
   "outputs": [
    {
     "data": {
      "text/latex": [
       "$\\left[ \\begin{array}{rr}\\alpha^{l}_{G}&\\alpha^{l}_{K}\\\\\\alpha^{l}_{G}&\\alpha^{c}_{K}\\\\\\alpha^{l}_{G}&\\alpha^{r}_{K}\\\\\\alpha^{c}_{G}&\\alpha^{l}_{K}\\\\\\alpha^{c}_{G}&\\alpha^{c}_{K}\\\\\\alpha^{c}_{G}&\\alpha^{r}_{K}\\\\\\alpha^{r}_{G}&\\alpha^{l}_{K}\\\\\\alpha^{r}_{G}&\\alpha^{c}_{K}\\\\\\alpha^{r}_{G}&\\alpha^{r}_{K}\\end{array}\\right]$\n"
      ],
      "text/plain": [
       "9×2 Matrix{Sym}:\n",
       " α_G__l  α_K__l\n",
       " α_G__l  α_K__c\n",
       " α_G__l  α_K__r\n",
       " α_G__c  α_K__l\n",
       " α_G__c  α_K__c\n",
       " α_G__c  α_K__r\n",
       " α_G__r  α_K__l\n",
       " α_G__r  α_K__c\n",
       " α_G__r  α_K__r"
      ]
     },
     "execution_count": 32,
     "metadata": {},
     "output_type": "execute_result"
    }
   ],
   "source": [
    "#strategy matrix\n",
    "Goalkeeper = [Sym(\"a_$i^$j\") for i=\"G\" for j=[\"l\",\"c\",\"r\"]]\n",
    "Kicker = [Sym(\"a_$i^$j\") for i=\"K\" for j=[\"l\",\"c\",\"r\"]]\n",
    "A = [Goalkeeper , Kicker]\n",
    "S = s_matrix(A) \n",
    "\n",
    "#Probability matrix \n",
    "Goalkeeper_p = [symbols(\"alpha_$i^$j\", real = true, positive = true) for i=\"G\" for j=[\"l\",\"c\",\"r\"]]\n",
    "Kicker_p = [symbols(\"alpha_$i^$j\", real = true, positive = true) for i=\"K\" for j=[\"l\",\"c\",\"r\"]]\n",
    "P = [Goalkeeper_p , Kicker_p]\n",
    "P = s_matrix(P) "
   ]
  },
  {
   "cell_type": "code",
   "execution_count": 33,
   "id": "8cbb6b0c-de9c-4495-8e09-555d7bbb1093",
   "metadata": {},
   "outputs": [
    {
     "data": {
      "text/plain": [
       "9×2 Matrix{Float64}:\n",
       " 0.65  0.35\n",
       " 0.95  0.05\n",
       " 0.95  0.05\n",
       " 0.95  0.05\n",
       " 0.0   1.0\n",
       " 0.95  0.05\n",
       " 0.95  0.05\n",
       " 0.95  0.05\n",
       " 0.65  0.35"
      ]
     },
     "execution_count": 33,
     "metadata": {},
     "output_type": "execute_result"
    }
   ],
   "source": [
    "U = [0.65 0.35;0.95 0.05;0.95 0.05;0.95 0.05; 0 1;0.95 0.05;0.95 0.05;0.95 0.05;0.65 0.35]"
   ]
  },
  {
   "cell_type": "code",
   "execution_count": 34,
   "id": "10eb600a-af00-4f2d-beb2-b042ce07c9b1",
   "metadata": {},
   "outputs": [
    {
     "data": {
      "text/latex": [
       "$\\left[ \\begin{array}{r}\\alpha^{r}_{G} = 0.431818181818182\\\\\\alpha^{l}_{G} = 0.431818181818182\\\\\\alpha^{c}_{G} = 0.136363636363636\\\\\\alpha^{c}_{K} = 0.136363636363636\\\\\\alpha^{l}_{K} = 0.431818181818182\\\\\\alpha^{r}_{K} = 0.431818181818182\\end{array} \\right]$\n"
      ],
      "text/plain": [
       "6-element Vector{Sym}:\n",
       " α_G__r = 0.431818181818182\n",
       " α_G__l = 0.431818181818182\n",
       " α_G__c = 0.136363636363636\n",
       " α_K__c = 0.136363636363636\n",
       " α_K__l = 0.431818181818182\n",
       " α_K__r = 0.431818181818182"
      ]
     },
     "execution_count": 34,
     "metadata": {},
     "output_type": "execute_result"
    }
   ],
   "source": [
    "solve_game(P,U)"
   ]
  },
  {
   "cell_type": "markdown",
   "id": "369ecbe6-b6ca-4545-bfb3-7650a75d807b",
   "metadata": {},
   "source": [
    "## Example: three players\n",
    "\n",
    "https://sites.duke.edu/niou/files/2011/05/Lecture-3.pdf"
   ]
  },
  {
   "cell_type": "code",
   "execution_count": 35,
   "id": "5c3c992d-b7ef-4130-a2f7-7819d36d890e",
   "metadata": {},
   "outputs": [
    {
     "data": {
      "text/latex": [
       "$\\left[ \\begin{array}{r}\\alpha^{a}_{1} = \\frac{2}{3}\\\\\\alpha^{b}_{1} = \\frac{1}{3}\\\\\\alpha^{a}_{2} = \\frac{2}{3}\\\\\\alpha^{b}_{2} = \\frac{1}{3}\\\\\\alpha^{a}_{3} = \\frac{2}{3}\\\\\\alpha^{b}_{3} = \\frac{1}{3}\\end{array} \\right]$\n"
      ],
      "text/plain": [
       "6-element Vector{Sym}:\n",
       " α_1__a = 2/3\n",
       " α_1__b = 1/3\n",
       " α_2__a = 2/3\n",
       " α_2__b = 1/3\n",
       " α_3__a = 2/3\n",
       " α_3__b = 1/3"
      ]
     },
     "execution_count": 35,
     "metadata": {},
     "output_type": "execute_result"
    }
   ],
   "source": [
    "#Probability matrix \n",
    "p1 = [symbols(\"alpha_$i^$j\", real = true, positive = true) for i=1 for j=[\"a\",\"b\"]]\n",
    "p2 = [symbols(\"alpha_$i^$j\", real = true, positive = true) for i=2 for j=[\"a\",\"b\"]]\n",
    "p3 = [symbols(\"alpha_$i^$j\", real = true, positive = true) for i=3 for j=[\"a\",\"b\"]]\n",
    "P = [p1 , p2 , p3]\n",
    "P = s_matrix(P) \n",
    "\n",
    "#payoff matrix\n",
    "U = [1 1 1; 0 0 0; 0 0 0;0 0 0;0 0 0;0 0 0;0 0 0;4 4 4]\n",
    "\n",
    "#solve\n",
    "eq1 = sum_prob(P) #first set of equations\n",
    "S_P = hadamard_product(P) #hadamard product\n",
    "eq2 = S_P.T * U #spected payoff\n",
    "eq3 = foc(eq1,eq2,P) #second set of equations\n",
    "eq4 = append!(vec(eq1), eq3) # join first and second set of equations \n",
    "vars = unique(P) #system variables \n",
    "sol = solve(eq4,vars) #solve sistem\n",
    "Eq.(vec(vars),sol[1])#print result"
   ]
  },
  {
   "cell_type": "markdown",
   "id": "580f4eb1-af49-43a4-ab26-59d66962deef",
   "metadata": {},
   "source": [
    "## Example: three players\n",
    "https://felixmunozgarcia.files.wordpress.com/2017/08/slides_71.pdf"
   ]
  },
  {
   "cell_type": "code",
   "execution_count": 36,
   "id": "95f55296-d122-4587-b226-1630dd5e2898",
   "metadata": {},
   "outputs": [
    {
     "data": {
      "text/latex": [
       "$\\left[ \\begin{array}{r}\\alpha^{f}_{B} = \\frac{1}{2}\\\\\\alpha^{b}_{B} = \\frac{1}{2}\\\\\\alpha^{f}_{T} = \\frac{1}{2}\\\\\\alpha^{b}_{T} = \\frac{1}{2}\\\\\\alpha^{f}_{J} = \\frac{8}{15}\\\\\\alpha^{b}_{J} = \\frac{7}{15}\\end{array} \\right]$\n"
      ],
      "text/plain": [
       "6-element Vector{Sym}:\n",
       "  α_B__f = 1/2\n",
       "  α_B__b = 1/2\n",
       "  α_T__f = 1/2\n",
       "  α_T__b = 1/2\n",
       " α_J__f = 8/15\n",
       " α_J__b = 7/15"
      ]
     },
     "execution_count": 36,
     "metadata": {},
     "output_type": "execute_result"
    }
   ],
   "source": [
    "#strategy matrix\n",
    "Beth = [Sym(\"a_$i^$j\") for i=\"B\" for j=[\"f\",\"b\"]]\n",
    "Tommy = [Sym(\"a_$i^$j\") for i=\"T\" for j=[\"f\",\"b\"]]\n",
    "Jason = [Sym(\"a_$i^$j\") for i=\"J\" for j=[\"f\",\"b\"]]\n",
    "A = [Beth , Tommy, Jason]\n",
    "S = s_matrix(A) \n",
    "\n",
    "#Probability matrix \n",
    "Beth_p = [symbols(\"alpha_$i^$j\", real = true, positive = true) for i=\"B\" for j=[\"f\",\"b\"]]\n",
    "Tommy_p = [symbols(\"alpha_$i^$j\", real = true, positive = true) for i=\"T\" for j=[\"f\",\"b\"]]\n",
    "Jason_p = [symbols(\"alpha_$i^$j\", real = true, positive = true) for i=\"J\" for j=[\"f\",\"b\"]]\n",
    "P = [Beth_p , Tommy_p, Jason_p]\n",
    "P = s_matrix(P) \n",
    "\n",
    "#payoff matrix\n",
    "U = [0 0 0; 3 3 -2;-4 1 2;1 -4 2;1 -4 2;-4 1 2; 2 2 -2; 0 0 0]\n",
    "\n",
    "#solve\n",
    "eq1 = sum_prob(P) #first set of equations\n",
    "S_P = hadamard_product(P) #hadamard product\n",
    "eq2 = S_P.T * U #spected payoff\n",
    "eq3 = foc(eq1,eq2,P) #second set of equations\n",
    "eq4 = append!(vec(eq1), eq3) # join first and second set of equations \n",
    "vars = unique(P) #system variables \n",
    "sol = solve(eq4,vars) #solve sistem\n",
    "Eq.(vec(vars),sol[1])#print result"
   ]
  }
 ],
 "metadata": {
  "kernelspec": {
   "display_name": "Julia 1.6.4",
   "language": "julia",
   "name": "julia-1.6"
  },
  "language_info": {
   "file_extension": ".jl",
   "mimetype": "application/julia",
   "name": "julia",
   "version": "1.6.4"
  }
 },
 "nbformat": 4,
 "nbformat_minor": 5
}
